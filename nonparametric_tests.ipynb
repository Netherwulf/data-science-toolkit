{
 "cells": [
  {
   "cell_type": "markdown",
   "metadata": {},
   "source": [
    "<b>Import of required libraries</b>"
   ]
  },
  {
   "cell_type": "code",
   "execution_count": 7,
   "metadata": {},
   "outputs": [],
   "source": [
    "import os\n",
    "import numpy as np\n",
    "import pandas as pd\n",
    "import matplotlib.pyplot as plt\n",
    "import math\n",
    "from scipy.stats import wilcoxon, ranksums\n",
    "from statsmodels.stats.descriptivestats import sign_test"
   ]
  },
  {
   "cell_type": "markdown",
   "metadata": {},
   "source": [
    "<b>1. Sign test example (binomial distribution values based on 19th slide from [this](http://home.agh.edu.pl/~kca/stat/WYK%A3ADY_pdf/WYK%A3AD%208.pdf))</b>"
   ]
  },
  {
   "cell_type": "code",
   "execution_count": 21,
   "metadata": {},
   "outputs": [
    {
     "name": "stdout",
     "output_type": "stream",
     "text": [
      "=== First sample stats ===\n",
      "Sample 1st quartile: \t 63.0 \n",
      "Sample median: \t\t 83.5 \n",
      "Sample 3rd quartile: \t 88.75 \n",
      "Sample mean: \t\t 77.05 \n",
      "Sample variance: \t 186.1475 \n",
      "Sample std dev: \t 13.643588237703453\n",
      "\n",
      "=== Second sample stats ===\n",
      "Sample 1st quartile: \t 62.75 \n",
      "Sample median: \t\t 74.0 \n",
      "Sample 3rd quartile: \t 84.0 \n",
      "Sample mean: \t\t 73.1 \n",
      "Sample variance: \t 148.58999999999997 \n",
      "Sample std dev: \t 12.189749792346026\n",
      "\n",
      "First sample median: \t 83.5 \n",
      "Second sample median: \t 74.0\n",
      "\n",
      "r (fewer signs): \t 4 \n",
      "r_alpha (dist value): \t 5\n",
      "\n",
      "Result: \t\t r value (fewer signs number) is less/equal than r_alpha\n",
      "\t\t\t (value from distribution) - we reject the null hypothesis\n"
     ]
    },
    {
     "data": {
      "text/plain": [
       "Text(0, 0.5, 'Patient weight')"
      ]
     },
     "execution_count": 21,
     "metadata": {},
     "output_type": "execute_result"
    },
    {
     "data": {
      "image/png": "[encoded data removed]",
      "text/plain": [
       "<Figure size 432x288 with 1 Axes>"
      ]
     },
     "metadata": {
      "needs_background": "light"
     },
     "output_type": "display_data"
    }
   ],
   "source": [
    "def summarize_sample(sample):\n",
    "    print('Sample 1st quartile: \\t {0}'.format(np.percentile(sample, 25)), \n",
    "          '\\nSample median: \\t\\t {0}'.format(np.median(sample)), \n",
    "          '\\nSample 3rd quartile: \\t {0}'.format(np.percentile(sample, 75)),\n",
    "          '\\nSample mean: \\t\\t {0}'.format(np.mean(sample)), \n",
    "          '\\nSample variance: \\t {0}'.format(np.var(sample)), \n",
    "          '\\nSample std dev: \\t {0}'.format(np.std(sample)))\n",
    "    \n",
    "def get_binomial_distribution_value(n, k=0.9800):\n",
    "    if n > 90:\n",
    "        dist_value = np.floor(0.5 * (n - 1) - (k * np.square(n + 1)))\n",
    "    else:\n",
    "        values_dict = {'1': 0, '2': 0, '3': 0, '4': 0, '5': 0, '6': 0, '7': 0, \n",
    "                       '8': 0, '9': 1, '10': 1, '11': 1, '12': 2, '13': 2,\n",
    "                       '14': 2, '15': 3, '16': 3, '17': 4, '18': 4, '19': 4,\n",
    "                       '20': 5, '21': 5, '22': 5, '23': 6, '24': 6, '25': 7,\n",
    "                       '26': 7, '27': 7, '28': 8, '29': 8, '30': 9, '31': 9,\n",
    "                       '32': 9, '33': 10, '34': 10, '35': 11, '36': 11,\n",
    "                       '37': 12, '38': 12, '39': 12, '40': 13, '41': 13,\n",
    "                       '42': 14, '43': 14, '44': 15, '45': 15, '46': 15,\n",
    "                       '47': 16, '48': 16, '49': 17, '50': 17, '51': 18,\n",
    "                       '52': 18, '53': 18, '54': 19, '55': 19, '56': 20,\n",
    "                       '57': 20, '58': 21, '59': 21, '60': 21, '61': 22, \n",
    "                       '62': 22, '63': 23, '64': 23, '65': 24, '66': 24, \n",
    "                       '67': 25, '68': 25, '69': 25, '70': 26, '71': 26, \n",
    "                       '72': 27, '73': 27, '74': 28, '75': 28, '76': 28, \n",
    "                       '77': 29, '78': 29, '79': 30, '80': 30, '81': 31, \n",
    "                       '82': 31, '83': 32, '84': 32, '85': 32, '86': 33, \n",
    "                       '87': 33, '88': 34, '89': 34, '90': 35}\n",
    "        dist_value = values_dict[str(n)]\n",
    "    return dist_value\n",
    "\n",
    "def count_fewer_signs(sample1, sample2):\n",
    "    # get differences list\n",
    "    differences_list = np.asarray(sample1, dtype=np.int) - np.asarray(sample2, dtype=np.int)\n",
    "\n",
    "    # count positive differences\n",
    "    positive_signs = sum(difference > 0 for difference in differences_list)\n",
    "    \n",
    "    # count negative differences\n",
    "    negative_signs = sum(difference < 0 for difference in differences_list)\n",
    "    \n",
    "    # return number of fewer signs\n",
    "    return min(positive_signs, negative_signs)\n",
    "\n",
    "def signs_test(sample1, sample2):\n",
    "    r = count_fewer_signs(sample1, sample2)\n",
    "    \n",
    "    number_of_observations = len(sample1)\n",
    "    dist_value = get_binomial_distribution_value(number_of_observations)\n",
    "    \n",
    "    print('\\nr (fewer signs): \\t {0}'.format(r), \n",
    "          '\\nr_alpha (dist value): \\t {0}'.format(dist_value))\n",
    "    \n",
    "    if r <= dist_value:\n",
    "        print('\\nResult: \\t\\t r value (fewer signs number) is less/equal than r_alpha\\n\\t\\t\\t (value from distribution) - we reject the null hypothesis')\n",
    "    else:\n",
    "        print('\\nResult: \\t\\t r value (fewer signs number) is greater than r_alpha\\n\\t\\t\\t (value from distribution) - we can\\'t reject the null hypothesis')\n",
    "\n",
    "\n",
    "w1 = [88, 69, 86, 59, 57, 82, 94, 93, 64, 91, 86, 59, 91, 60, 57, 92, 70, 88, 70, 85]\n",
    "w2 = [73, 68, 75, 54, 53, 84, 84, 86, 66, 84, 78, 58, 91, 57, 59, 88, 71, 84, 64, 85]\n",
    "\n",
    "print('=== First sample stats ===')\n",
    "summarize_sample(w1)\n",
    "\n",
    "print('\\n=== Second sample stats ===')\n",
    "summarize_sample(w2)\n",
    "\n",
    "print('\\nFirst sample median: \\t {0}'.format(np.median(w1)),\n",
    "     '\\nSecond sample median: \\t {0}'.format(np.median(w2)))\n",
    "\n",
    "signs_test(w1, w2)\n",
    "   \n",
    "plt.boxplot((w1, w2), labels=['Before diet', 'After diet'])\n",
    "plt.title('Boxplot of patients\\' weight')\n",
    "plt.xlabel('Weight before/after diet')\n",
    "plt.ylabel('Patient weight')"
   ]
  },
  {
   "cell_type": "markdown",
   "metadata": {},
   "source": [
    "<b>2. Sign test example for book reading samples (binomial distribution values based on 19th slide from [this](http://home.agh.edu.pl/~kca/stat/WYK%A3ADY_pdf/WYK%A3AD%208.pdf))</b>"
   ]
  },
  {
   "cell_type": "code",
   "execution_count": 20,
   "metadata": {},
   "outputs": [
    {
     "name": "stdout",
     "output_type": "stream",
     "text": [
      "=== First sample stats ===\n",
      "Sample 1st quartile: \t 13.75 \n",
      "Sample median: \t\t 17.0 \n",
      "Sample 3rd quartile: \t 24.0 \n",
      "Sample mean: \t\t 19.05 \n",
      "Sample variance: \t 59.09750000000001 \n",
      "Sample std dev: \t 7.687489837391658\n",
      "\n",
      "=== Second sample stats ===\n",
      "Sample 1st quartile: \t 13.0 \n",
      "Sample median: \t\t 17.0 \n",
      "Sample 3rd quartile: \t 21.0 \n",
      "Sample mean: \t\t 18.15 \n",
      "Sample variance: \t 58.62750000000001 \n",
      "Sample std dev: \t 7.6568596696034605\n",
      "\n",
      "First sample median: \t 17.0 \n",
      "Second sample median: \t 17.0\n",
      "\n",
      "r (fewer signs): \t 7 \n",
      "r_alpha (dist value): \t 13\n",
      "\n",
      "Result: \t\t r value (fewer signs number) is less/equal than r_alpha\n",
      "\t\t\t (value from distribution) - we reject the null hypothesis\n"
     ]
    }
   ],
   "source": [
    "def summarize_sample(sample):\n",
    "    print('Sample 1st quartile: \\t {0}'.format(np.percentile(sample, 25)), \n",
    "          '\\nSample median: \\t\\t {0}'.format(np.median(sample)), \n",
    "          '\\nSample 3rd quartile: \\t {0}'.format(np.percentile(sample, 75)),\n",
    "          '\\nSample mean: \\t\\t {0}'.format(np.mean(sample)), \n",
    "          '\\nSample variance: \\t {0}'.format(np.var(sample)), \n",
    "          '\\nSample std dev: \\t {0}'.format(np.std(sample)))\n",
    "    \n",
    "def get_binomial_distribution_value(n, k=0.9800):\n",
    "    if n > 90:\n",
    "        dist_value = np.floor(0.5 * (n - 1) - (k * np.square(n + 1)))\n",
    "    else:\n",
    "        values_dict = {'1': 0, '2': 0, '3': 0, '4': 0, '5': 0, '6': 0, '7': 0, \n",
    "                       '8': 0, '9': 1, '10': 1, '11': 1, '12': 2, '13': 2,\n",
    "                       '14': 2, '15': 3, '16': 3, '17': 4, '18': 4, '19': 4,\n",
    "                       '20': 5, '21': 5, '22': 5, '23': 6, '24': 6, '25': 7,\n",
    "                       '26': 7, '27': 7, '28': 8, '29': 8, '30': 9, '31': 9,\n",
    "                       '32': 9, '33': 10, '34': 10, '35': 11, '36': 11,\n",
    "                       '37': 12, '38': 12, '39': 12, '40': 13, '41': 13,\n",
    "                       '42': 14, '43': 14, '44': 15, '45': 15, '46': 15,\n",
    "                       '47': 16, '48': 16, '49': 17, '50': 17, '51': 18,\n",
    "                       '52': 18, '53': 18, '54': 19, '55': 19, '56': 20,\n",
    "                       '57': 20, '58': 21, '59': 21, '60': 21, '61': 22, \n",
    "                       '62': 22, '63': 23, '64': 23, '65': 24, '66': 24, \n",
    "                       '67': 25, '68': 25, '69': 25, '70': 26, '71': 26, \n",
    "                       '72': 27, '73': 27, '74': 28, '75': 28, '76': 28, \n",
    "                       '77': 29, '78': 29, '79': 30, '80': 30, '81': 31, \n",
    "                       '82': 31, '83': 32, '84': 32, '85': 32, '86': 33, \n",
    "                       '87': 33, '88': 34, '89': 34, '90': 35}\n",
    "        dist_value = values_dict[str(n)]\n",
    "    return dist_value\n",
    "\n",
    "def count_fewer_signs(sample1, sample2):\n",
    "    # get differences list\n",
    "    differences_list = np.asarray(sample1, dtype=np.int) - np.asarray(sample2, dtype=np.int)\n",
    "\n",
    "    # count positive differences\n",
    "    positive_signs = sum(difference > 0 for difference in differences_list)\n",
    "    \n",
    "    # count negative differences\n",
    "    negative_signs = sum(difference < 0 for difference in differences_list)\n",
    "    \n",
    "    # return number of fewer signs\n",
    "    return min(positive_signs, negative_signs)\n",
    "\n",
    "def signs_test(sample1, sample2):\n",
    "    r = count_fewer_signs(sample1, sample2)\n",
    "    \n",
    "    number_of_observations = len(sample1)\n",
    "    dist_value = get_binomial_distribution_value(number_of_observations)\n",
    "    \n",
    "    print('\\nr (fewer signs): \\t {0}'.format(r), \n",
    "          '\\nr_alpha (dist value): \\t {0}'.format(dist_value))\n",
    "    \n",
    "    if r <= dist_value:\n",
    "        print('\\nResult: \\t\\t r value (fewer signs number) is less/equal than r_alpha\\n\\t\\t\\t (value from distribution) - we reject the null hypothesis')\n",
    "    else:\n",
    "        print('\\nResult: \\t\\t r value (fewer signs number) is greater than r_alpha\\n\\t\\t\\t (value from distribution) - we can\\'t reject the null hypothesis')\n",
    "\n",
    "df = pd.read_csv(os.path.join('dane_listy_3_-_5', 'czytelnictwo.csv'))\n",
    "\n",
    "print('=== First sample stats ===')\n",
    "summarize_sample(df['przed'])\n",
    "\n",
    "print('\\n=== Second sample stats ===')\n",
    "summarize_sample(df['po'])\n",
    "\n",
    "summarize_sample\n",
    "\n",
    "print('\\nFirst sample median: \\t {0}'.format(np.median(df['przed'])), \n",
    "      '\\nSecond sample median: \\t {0}'.format(np.median(df['po'])))\n",
    "\n",
    "signs_test(df['przed'], df['po'])\n"
   ]
  },
  {
   "cell_type": "markdown",
   "metadata": {},
   "source": [
    "<b>3. Wilcoxon rank-sum test example</b>"
   ]
  },
  {
   "cell_type": "code",
   "execution_count": 10,
   "metadata": {},
   "outputs": [
    {
     "name": "stdout",
     "output_type": "stream",
     "text": [
      "First sample median: \t 0.73 \n",
      "Second sample median: \t 0.18\n",
      "\n",
      "p-value: \t\t 0.001745118699528905 \n",
      "alpha: \t\t\t 0.05\n",
      "\n",
      "Result: \t\t p-value is less/equal than alpha - we reject the null hypothesis\n"
     ]
    }
   ],
   "source": [
    "df = pd.read_csv(os.path.join('dane_listy_3_-_5', 'chmiel.csv'))\n",
    "\n",
    "print('First sample median: \\t {0}'.format(np.median(df['zapylona'])),\n",
    "     '\\nSecond sample median: \\t {0}'.format(np.median(df['niezapyl'])))\n",
    "\n",
    "stat, p = ranksums(df['zapylona'], df['niezapyl'])\n",
    "\n",
    "alpha = 0.05\n",
    "\n",
    "print('\\np-value: \\t\\t {0}'.format(p),\n",
    "     '\\nalpha: \\t\\t\\t {0}'.format(alpha))\n",
    "\n",
    "if p <= alpha:\n",
    "    print('\\nResult: \\t\\t p-value is less/equal than alpha - we reject the null hypothesis')\n",
    "else:\n",
    "    print('\\nResult: \\t\\t p-value is greater than alpha - we can\\'t reject the null hypothesis')"
   ]
  },
  {
   "cell_type": "markdown",
   "metadata": {},
   "source": [
    "<b>4. Wilcoxon rank-sum test example for employees' press reading time</b>"
   ]
  },
  {
   "cell_type": "code",
   "execution_count": 11,
   "metadata": {},
   "outputs": [
    {
     "name": "stdout",
     "output_type": "stream",
     "text": [
      "First sample median: \t 17.0 \n",
      "Second sample median: \t 17.0\n",
      "\n",
      "p-value: \t\t 0.46458961554772527 \n",
      "alpha: \t\t\t 0.05\n",
      "\n",
      "Result: \t\t p-value is greater than alpha - we can't reject the null hypothesis\n"
     ]
    }
   ],
   "source": [
    "df = pd.read_csv(os.path.join('dane_listy_3_-_5', 'czytelnictwo.csv'))\n",
    "\n",
    "print('First sample median: \\t {0}'.format(np.median(df['przed'])),\n",
    "     '\\nSecond sample median: \\t {0}'.format(np.median(df['po'])))\n",
    "\n",
    "stat, p = ranksums(df['przed'], df['po'])\n",
    "\n",
    "alpha = 0.05\n",
    "\n",
    "print('\\np-value: \\t\\t {0}'.format(p),\n",
    "     '\\nalpha: \\t\\t\\t {0}'.format(alpha))\n",
    "\n",
    "if p <= alpha:\n",
    "    print('\\nResult: \\t\\t p-value is less/equal than alpha - we reject the null hypothesis')\n",
    "else:\n",
    "    print('\\nResult: \\t\\t p-value is greater than alpha - we can\\'t reject the null hypothesis')"
   ]
  },
  {
   "cell_type": "markdown",
   "metadata": {},
   "source": [
    "<b>5. Wilcoxon rank-sum test example for custom alpha (0.9)</b>"
   ]
  },
  {
   "cell_type": "code",
   "execution_count": 12,
   "metadata": {},
   "outputs": [
    {
     "name": "stdout",
     "output_type": "stream",
     "text": [
      "First sample median: \t 984.0 \n",
      "Second sample median: \t 729.0\n",
      "\n",
      "p-value: \t\t 0.02633008765302607 \n",
      "alpha: \t\t\t 0.9\n",
      "\n",
      "Result: \t\t p-value is less/equal than alpha - we reject the null hypothesis\n"
     ]
    }
   ],
   "source": [
    "df = pd.read_csv(os.path.join('dane_listy_3_-_5', 'dane z koronografii.csv'))\n",
    "\n",
    "print('First sample median: \\t {0}'.format(np.median(df[df['group'] == 1]['time'])),\n",
    "     '\\nSecond sample median: \\t {0}'.format(np.median(df[df['group'] == 2]['time'])))\n",
    "\n",
    "stat, p = ranksums(df[df['group'] == 1]['time'], df[df['group'] == 2]['time'])\n",
    "\n",
    "alpha = 0.9\n",
    "\n",
    "print('\\np-value: \\t\\t {0}'.format(p),\n",
    "     '\\nalpha: \\t\\t\\t {0}'.format(alpha))\n",
    "\n",
    "if p <= alpha:\n",
    "    print('\\nResult: \\t\\t p-value is less/equal than alpha - we reject the null hypothesis')\n",
    "else:\n",
    "    print('\\nResult: \\t\\t p-value is greater than alpha - we can\\'t reject the null hypothesis')"
   ]
  }
 ],
 "metadata": {
  "kernelspec": {
   "display_name": "Python 3",
   "language": "python",
   "name": "python3"
  },
  "language_info": {
   "codemirror_mode": {
    "name": "ipython",
    "version": 3
   },
   "file_extension": ".py",
   "mimetype": "text/x-python",
   "name": "python",
   "nbconvert_exporter": "python",
   "pygments_lexer": "ipython3",
   "version": "3.6.8"
  }
 },
 "nbformat": 4,
 "nbformat_minor": 2
}
