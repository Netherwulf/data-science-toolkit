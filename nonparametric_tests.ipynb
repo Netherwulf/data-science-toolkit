{
 "cells": [
  {
   "cell_type": "markdown",
   "metadata": {},
   "source": [
    "<b>Import of required libraries</b>"
   ]
  },
  {
   "cell_type": "code",
   "execution_count": 14,
   "metadata": {},
   "outputs": [],
   "source": [
    "import os\n",
    "import numpy as np\n",
    "import pandas as pd\n",
    "from scipy.stats import wilcoxon, ranksums\n",
    "from statsmodels.stats.descriptivestats import sign_test"
   ]
  },
  {
   "cell_type": "markdown",
   "metadata": {},
   "source": [
    "<b>1. Sign test example</b>"
   ]
  },
  {
   "cell_type": "code",
   "execution_count": 13,
   "metadata": {},
   "outputs": [
    {
     "name": "stdout",
     "output_type": "stream",
     "text": [
      "First sample median: \t 83.5 \n",
      "Second sample median: \t 74.0\n",
      "\n",
      "p-value: \t\t 0.0001775558502691252 \n",
      "alpha: \t\t\t 0.05\n",
      "\n",
      "Result: \t\t p-value is less/equal than alpha - we reject the null hyptohesis\n"
     ]
    }
   ],
   "source": [
    "w1 = [88, 69, 86, 59, 57, 82, 94, 93, 64, 91, 86, 59, 91, 60, 57, 92, 70, 88, 70, 85]\n",
    "w2 = [73, 68, 75, 54, 53, 84, 84, 86, 66, 84, 78, 58, 91, 57, 59, 88, 71, 84, 64, 85]\n",
    "\n",
    "print('First sample median: \\t {0}'.format(np.median(w1)),\n",
    "     '\\nSecond sample median: \\t {0}'.format(np.median(w2)))\n",
    "\n",
    "stat, p = wilcoxon(sorted(w1), sorted(w2), zero_method='wilcox')\n",
    "\n",
    "alpha = 0.05\n",
    "\n",
    "print('\\np-value: \\t\\t {0}'.format(p),\n",
    "     '\\nalpha: \\t\\t\\t {0}'.format(alpha))\n",
    "\n",
    "if p <= alpha:\n",
    "    print('\\nResult: \\t\\t p-value is less/equal than alpha - we reject the null hyptohesis')\n",
    "else:\n",
    "    print('\\nResult: \\t\\t p-value is greater than alpha - we can\\'t reject the null hyptohesis')"
   ]
  },
  {
   "cell_type": "markdown",
   "metadata": {},
   "source": [
    "<b>2. Sign test example for book reading samples</b>"
   ]
  },
  {
   "cell_type": "code",
   "execution_count": 21,
   "metadata": {},
   "outputs": [
    {
     "name": "stdout",
     "output_type": "stream",
     "text": [
      "First sample median: \t 17.0 \n",
      "Second sample median: \t 17.0\n",
      "\n",
      "p-value: \t\t 0.00021862011712466066 \n",
      "alpha: \t\t\t 0.05\n",
      "\n",
      "Result: \t\t p-value is less/equal than alpha - we reject the null hyptohesis\n"
     ]
    }
   ],
   "source": [
    "df = pd.read_csv(os.path.join('dane_listy_3_-_5', 'czytelnictwo.csv'))\n",
    "\n",
    "print('First sample median: \\t {0}'.format(np.median(df['przed'])),\n",
    "     '\\nSecond sample median: \\t {0}'.format(np.median(df['po'])))\n",
    "\n",
    "stat, p = wilcoxon(sorted(df['przed']), sorted(df['po']), zero_method='wilcox')\n",
    "\n",
    "alpha = 0.05\n",
    "\n",
    "print('\\np-value: \\t\\t {0}'.format(p),\n",
    "     '\\nalpha: \\t\\t\\t {0}'.format(alpha))\n",
    "\n",
    "if p <= alpha:\n",
    "    print('\\nResult: \\t\\t p-value is less/equal than alpha - we reject the null hyptohesis')\n",
    "else:\n",
    "    print('\\nResult: \\t\\t p-value is greater than alpha - we can\\'t reject the null hyptohesis')"
   ]
  },
  {
   "cell_type": "markdown",
   "metadata": {},
   "source": [
    "<b>3. Wilcoxon rank-sum test example</b>"
   ]
  },
  {
   "cell_type": "code",
   "execution_count": null,
   "metadata": {},
   "outputs": [],
   "source": []
  }
 ],
 "metadata": {
  "kernelspec": {
   "display_name": "Python 3",
   "language": "python",
   "name": "python3"
  },
  "language_info": {
   "codemirror_mode": {
    "name": "ipython",
    "version": 3
   },
   "file_extension": ".py",
   "mimetype": "text/x-python",
   "name": "python",
   "nbconvert_exporter": "python",
   "pygments_lexer": "ipython3",
   "version": "3.7.2"
  }
 },
 "nbformat": 4,
 "nbformat_minor": 2
}
