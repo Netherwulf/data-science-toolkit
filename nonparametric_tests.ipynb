{
 "cells": [
  {
   "cell_type": "markdown",
   "metadata": {},
   "source": [
    "<b>Import of required libraries</b>"
   ]
  },
  {
   "cell_type": "code",
   "execution_count": 29,
   "metadata": {},
   "outputs": [],
   "source": [
    "import os\n",
    "import numpy as np\n",
    "import pandas as pd\n",
    "import matplotlib.pyplot as plt\n",
    "from scipy.stats import wilcoxon, ranksums\n",
    "from statsmodels.stats.descriptivestats import sign_test"
   ]
  },
  {
   "cell_type": "markdown",
   "metadata": {},
   "source": [
    "<b>1. Sign test example</b>"
   ]
  },
  {
   "cell_type": "code",
   "execution_count": null,
   "metadata": {},
   "outputs": [
    {
     "name": "stdout",
     "output_type": "stream",
     "text": [
      "=== First sample stats ===\n",
      "Sample 1st quartile: \t 63.0 \n",
      "Sample median: \t\t 83.5 \n",
      "Sample 3rd quartile: \t 88.75 \n",
      "Sample mean: \t\t 77.05 \n",
      "Sample variance: \t 186.1475 \n",
      "Sample std dev: \t 13.643588237703453\n",
      "\n",
      "=== Second sample stats ===\n",
      "Sample 1st quartile: \t 62.75 \n",
      "Sample median: \t\t 74.0 \n",
      "Sample 3rd quartile: \t 84.0 \n",
      "Sample mean: \t\t 73.1 \n",
      "Sample variance: \t 148.58999999999997 \n",
      "Sample std dev: \t 12.189749792346026\n",
      "\n",
      "First sample median: \t 83.5 \n",
      "Second sample median: \t 74.0\n",
      "\n",
      "p-value: \t\t 0.0001775558502691252 \n",
      "alpha: \t\t\t 0.05\n",
      "\n",
      "Result: \t\t p-value is less/equal than alpha - we reject the null hyptohesis\n"
     ]
    },
    {
     "data": {
      "text/plain": [
       "Text(0, 0.5, 'Patient weight')"
      ]
     },
     "execution_count": 43,
     "metadata": {},
     "output_type": "execute_result"
    }
   ],
   "source": [
    "def summarize_sample(sample):\n",
    "    print('Sample 1st quartile: \\t {0}'.format(np.percentile(sample, 25)),\n",
    "         '\\nSample median: \\t\\t {0}'.format(np.median(sample)),\n",
    "          '\\nSample 3rd quartile: \\t {0}'.format(np.percentile(sample, 75)),\n",
    "          '\\nSample mean: \\t\\t {0}'.format(np.mean(sample)),\n",
    "         '\\nSample variance: \\t {0}'.format(np.var(sample)),\n",
    "         '\\nSample std dev: \\t {0}'.format(np.std(sample)))\n",
    "\n",
    "w1 = [88, 69, 86, 59, 57, 82, 94, 93, 64, 91, 86, 59, 91, 60, 57, 92, 70, 88, 70, 85]\n",
    "w2 = [73, 68, 75, 54, 53, 84, 84, 86, 66, 84, 78, 58, 91, 57, 59, 88, 71, 84, 64, 85]\n",
    "\n",
    "print('=== First sample stats ===')\n",
    "summarize_sample(w1)\n",
    "\n",
    "print('\\n=== Second sample stats ===')\n",
    "summarize_sample(w2)\n",
    "\n",
    "print('\\nFirst sample median: \\t {0}'.format(np.median(w1)),\n",
    "     '\\nSecond sample median: \\t {0}'.format(np.median(w2)))\n",
    "\n",
    "stat, p = wilcoxon(sorted(w1), sorted(w2), zero_method='wilcox')\n",
    "\n",
    "alpha = 0.05\n",
    "\n",
    "print('\\np-value: \\t\\t {0}'.format(p),\n",
    "     '\\nalpha: \\t\\t\\t {0}'.format(alpha))\n",
    "\n",
    "if p <= alpha:\n",
    "    print('\\nResult: \\t\\t p-value is less/equal than alpha - we reject the null hyptohesis')\n",
    "else:\n",
    "    print('\\nResult: \\t\\t p-value is greater than alpha - we can\\'t reject the null hyptohesis')\n",
    "    \n",
    "plt.boxplot((w1, w2), labels=['Before diet', 'After diet'])\n",
    "plt.title('Boxplot of patients\\' weight')\n",
    "plt.xlabel('Weight before/after diet')\n",
    "plt.ylabel('Patient weight')\n"
   ]
  },
  {
   "cell_type": "markdown",
   "metadata": {},
   "source": [
    "<b>2. Sign test example for book reading samples</b>"
   ]
  },
  {
   "cell_type": "code",
   "execution_count": 3,
   "metadata": {},
   "outputs": [
    {
     "name": "stdout",
     "output_type": "stream",
     "text": [
      "First sample median: \t 17.0 \n",
      "Second sample median: \t 17.0\n",
      "\n",
      "p-value: \t\t 0.00021862011712466066 \n",
      "alpha: \t\t\t 0.05\n",
      "\n",
      "Result: \t\t p-value is less/equal than alpha - we reject the null hyptohesis\n"
     ]
    }
   ],
   "source": [
    "df = pd.read_csv(os.path.join('dane_listy_3_-_5', 'czytelnictwo.csv'))\n",
    "\n",
    "print('First sample median: \\t {0}'.format(np.median(df['przed'])),\n",
    "     '\\nSecond sample median: \\t {0}'.format(np.median(df['po'])))\n",
    "\n",
    "stat, p = wilcoxon(sorted(df['przed']), sorted(df['po']), zero_method='wilcox')\n",
    "\n",
    "alpha = 0.05\n",
    "\n",
    "print('\\np-value: \\t\\t {0}'.format(p),\n",
    "     '\\nalpha: \\t\\t\\t {0}'.format(alpha))\n",
    "\n",
    "if p <= alpha:\n",
    "    print('\\nResult: \\t\\t p-value is less/equal than alpha - we reject the null hyptohesis')\n",
    "else:\n",
    "    print('\\nResult: \\t\\t p-value is greater than alpha - we can\\'t reject the null hyptohesis')"
   ]
  },
  {
   "cell_type": "markdown",
   "metadata": {},
   "source": [
    "<b>3. Wilcoxon rank-sum test example</b>"
   ]
  },
  {
   "cell_type": "code",
   "execution_count": 9,
   "metadata": {},
   "outputs": [
    {
     "name": "stdout",
     "output_type": "stream",
     "text": [
      "First sample median: \t 0.73 \n",
      "Second sample median: \t 0.18\n",
      "\n",
      "p-value: \t\t 0.001745118699528905 \n",
      "alpha: \t\t\t 0.05\n",
      "\n",
      "Result: \t\t p-value is less/equal than alpha - we reject the null hyptohesis\n"
     ]
    }
   ],
   "source": [
    "df = pd.read_csv(os.path.join('dane_listy_3_-_5', 'chmiel.csv'))\n",
    "\n",
    "print('First sample median: \\t {0}'.format(np.median(df['zapylona'])),\n",
    "     '\\nSecond sample median: \\t {0}'.format(np.median(df['niezapyl'])))\n",
    "\n",
    "stat, p = ranksums(df['zapylona'], df['niezapyl'])\n",
    "\n",
    "alpha = 0.05\n",
    "\n",
    "print('\\np-value: \\t\\t {0}'.format(p),\n",
    "     '\\nalpha: \\t\\t\\t {0}'.format(alpha))\n",
    "\n",
    "if p <= alpha:\n",
    "    print('\\nResult: \\t\\t p-value is less/equal than alpha - we reject the null hyptohesis')\n",
    "else:\n",
    "    print('\\nResult: \\t\\t p-value is greater than alpha - we can\\'t reject the null hyptohesis')"
   ]
  },
  {
   "cell_type": "markdown",
   "metadata": {},
   "source": [
    "<b>4. Wilcoxon rank-sum test example for employees' press reading time</b>"
   ]
  },
  {
   "cell_type": "code",
   "execution_count": 16,
   "metadata": {},
   "outputs": [
    {
     "name": "stdout",
     "output_type": "stream",
     "text": [
      "First sample median: \t 17.0 \n",
      "Second sample median: \t 17.0\n",
      "\n",
      "p-value: \t\t 0.46458961554772527 \n",
      "alpha: \t\t\t 0.05\n",
      "\n",
      "Result: \t\t p-value is greater than alpha - we can't reject the null hyptohesis\n"
     ]
    }
   ],
   "source": [
    "df = pd.read_csv(os.path.join('dane_listy_3_-_5', 'czytelnictwo.csv'))\n",
    "\n",
    "print('First sample median: \\t {0}'.format(np.median(df['przed'])),\n",
    "     '\\nSecond sample median: \\t {0}'.format(np.median(df['po'])))\n",
    "\n",
    "stat, p = ranksums(df['przed'], df['po'])\n",
    "\n",
    "alpha = 0.05\n",
    "\n",
    "print('\\np-value: \\t\\t {0}'.format(p),\n",
    "     '\\nalpha: \\t\\t\\t {0}'.format(alpha))\n",
    "\n",
    "if p <= alpha:\n",
    "    print('\\nResult: \\t\\t p-value is less/equal than alpha - we reject the null hyptohesis')\n",
    "else:\n",
    "    print('\\nResult: \\t\\t p-value is greater than alpha - we can\\'t reject the null hyptohesis')"
   ]
  },
  {
   "cell_type": "markdown",
   "metadata": {},
   "source": [
    "<b>5. Wilcoxon rank-sum test example for custom alpha (0.9)</b>"
   ]
  },
  {
   "cell_type": "code",
   "execution_count": 28,
   "metadata": {},
   "outputs": [
    {
     "name": "stdout",
     "output_type": "stream",
     "text": [
      "First sample median: \t 984.0 \n",
      "Second sample median: \t 729.0\n",
      "\n",
      "p-value: \t\t 0.02633008765302607 \n",
      "alpha: \t\t\t 0.9\n",
      "\n",
      "Result: \t\t p-value is less/equal than alpha - we reject the null hyptohesis\n"
     ]
    }
   ],
   "source": [
    "df = pd.read_csv(os.path.join('dane_listy_3_-_5', 'dane z koronografii.csv'))\n",
    "\n",
    "print('First sample median: \\t {0}'.format(np.median(df[df['group'] == 1]['time'])),\n",
    "     '\\nSecond sample median: \\t {0}'.format(np.median(df[df['group'] == 2]['time'])))\n",
    "\n",
    "stat, p = ranksums(df[df['group'] == 1]['time'], df[df['group'] == 2]['time'])\n",
    "\n",
    "alpha = 0.9\n",
    "\n",
    "print('\\np-value: \\t\\t {0}'.format(p),\n",
    "     '\\nalpha: \\t\\t\\t {0}'.format(alpha))\n",
    "\n",
    "if p <= alpha:\n",
    "    print('\\nResult: \\t\\t p-value is less/equal than alpha - we reject the null hyptohesis')\n",
    "else:\n",
    "    print('\\nResult: \\t\\t p-value is greater than alpha - we can\\'t reject the null hyptohesis')"
   ]
  }
 ],
 "metadata": {
  "kernelspec": {
   "display_name": "Python 3",
   "language": "python",
   "name": "python3"
  },
  "language_info": {
   "codemirror_mode": {
    "name": "ipython",
    "version": 3
   },
   "file_extension": ".py",
   "mimetype": "text/x-python",
   "name": "python",
   "nbconvert_exporter": "python",
   "pygments_lexer": "ipython3",
   "version": "3.7.2"
  }
 },
 "nbformat": 4,
 "nbformat_minor": 2
}
