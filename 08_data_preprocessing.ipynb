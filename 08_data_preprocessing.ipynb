{
 "cells": [
  {
   "cell_type": "code",
   "execution_count": 2,
   "metadata": {},
   "outputs": [],
   "source": [
    "import numpy as np\n",
    "import pandas as pd\n",
    "from faker import Faker\n",
    "fake = Faker()"
   ]
  },
  {
   "cell_type": "markdown",
   "metadata": {},
   "source": [
    "<b>1. Read data from csv.</b>"
   ]
  },
  {
   "cell_type": "code",
   "execution_count": 3,
   "metadata": {},
   "outputs": [
    {
     "data": {
      "text/plain": [
       "0      4.000000\n",
       "1      3.333333\n",
       "2      2.333333\n",
       "3      4.000000\n",
       "4      3.000000\n",
       "         ...   \n",
       "955    3.666667\n",
       "956    2.666667\n",
       "957    2.666667\n",
       "958    2.666667\n",
       "959    3.333333\n",
       "Name: economical_opinion, Length: 960, dtype: float64"
      ]
     },
     "execution_count": 3,
     "metadata": {},
     "output_type": "execute_result"
    }
   ],
   "source": [
    "df = pd.read_csv('igrzyska_list_7.csv')\n",
    "df['economical_opinion']"
   ]
  },
  {
   "cell_type": "markdown",
   "metadata": {},
   "source": [
    "<b>2. Normalize values in columns q67s1, q67s2, q67s3 and q67s4.</b>"
   ]
  },
  {
   "cell_type": "code",
   "execution_count": 4,
   "metadata": {},
   "outputs": [
    {
     "data": {
      "text/html": [
       "<div>\n",
       "<style scoped>\n",
       "    .dataframe tbody tr th:only-of-type {\n",
       "        vertical-align: middle;\n",
       "    }\n",
       "\n",
       "    .dataframe tbody tr th {\n",
       "        vertical-align: top;\n",
       "    }\n",
       "\n",
       "    .dataframe thead th {\n",
       "        text-align: right;\n",
       "    }\n",
       "</style>\n",
       "<table border=\"1\" class=\"dataframe\">\n",
       "  <thead>\n",
       "    <tr style=\"text-align: right;\">\n",
       "      <th></th>\n",
       "      <th>q67s1</th>\n",
       "      <th>q67s2</th>\n",
       "      <th>q67s3</th>\n",
       "      <th>q67s4</th>\n",
       "    </tr>\n",
       "  </thead>\n",
       "  <tbody>\n",
       "    <tr>\n",
       "      <td>0</td>\n",
       "      <td>0.428571</td>\n",
       "      <td>0.428571</td>\n",
       "      <td>0.428571</td>\n",
       "      <td>0.428571</td>\n",
       "    </tr>\n",
       "    <tr>\n",
       "      <td>1</td>\n",
       "      <td>0.000000</td>\n",
       "      <td>0.000000</td>\n",
       "      <td>0.000000</td>\n",
       "      <td>0.142857</td>\n",
       "    </tr>\n",
       "    <tr>\n",
       "      <td>2</td>\n",
       "      <td>1.000000</td>\n",
       "      <td>1.000000</td>\n",
       "      <td>1.000000</td>\n",
       "      <td>1.000000</td>\n",
       "    </tr>\n",
       "    <tr>\n",
       "      <td>3</td>\n",
       "      <td>0.000000</td>\n",
       "      <td>0.000000</td>\n",
       "      <td>0.000000</td>\n",
       "      <td>0.000000</td>\n",
       "    </tr>\n",
       "    <tr>\n",
       "      <td>4</td>\n",
       "      <td>0.142857</td>\n",
       "      <td>0.142857</td>\n",
       "      <td>0.142857</td>\n",
       "      <td>0.142857</td>\n",
       "    </tr>\n",
       "    <tr>\n",
       "      <td>...</td>\n",
       "      <td>...</td>\n",
       "      <td>...</td>\n",
       "      <td>...</td>\n",
       "      <td>...</td>\n",
       "    </tr>\n",
       "    <tr>\n",
       "      <td>955</td>\n",
       "      <td>0.857143</td>\n",
       "      <td>0.857143</td>\n",
       "      <td>0.857143</td>\n",
       "      <td>0.857143</td>\n",
       "    </tr>\n",
       "    <tr>\n",
       "      <td>956</td>\n",
       "      <td>0.142857</td>\n",
       "      <td>0.142857</td>\n",
       "      <td>0.142857</td>\n",
       "      <td>0.142857</td>\n",
       "    </tr>\n",
       "    <tr>\n",
       "      <td>957</td>\n",
       "      <td>0.000000</td>\n",
       "      <td>0.000000</td>\n",
       "      <td>0.285714</td>\n",
       "      <td>0.428571</td>\n",
       "    </tr>\n",
       "    <tr>\n",
       "      <td>958</td>\n",
       "      <td>0.000000</td>\n",
       "      <td>0.000000</td>\n",
       "      <td>0.000000</td>\n",
       "      <td>0.000000</td>\n",
       "    </tr>\n",
       "    <tr>\n",
       "      <td>959</td>\n",
       "      <td>0.142857</td>\n",
       "      <td>0.142857</td>\n",
       "      <td>0.142857</td>\n",
       "      <td>0.285714</td>\n",
       "    </tr>\n",
       "  </tbody>\n",
       "</table>\n",
       "<p>960 rows × 4 columns</p>\n",
       "</div>"
      ],
      "text/plain": [
       "        q67s1     q67s2     q67s3     q67s4\n",
       "0    0.428571  0.428571  0.428571  0.428571\n",
       "1    0.000000  0.000000  0.000000  0.142857\n",
       "2    1.000000  1.000000  1.000000  1.000000\n",
       "3    0.000000  0.000000  0.000000  0.000000\n",
       "4    0.142857  0.142857  0.142857  0.142857\n",
       "..        ...       ...       ...       ...\n",
       "955  0.857143  0.857143  0.857143  0.857143\n",
       "956  0.142857  0.142857  0.142857  0.142857\n",
       "957  0.000000  0.000000  0.285714  0.428571\n",
       "958  0.000000  0.000000  0.000000  0.000000\n",
       "959  0.142857  0.142857  0.142857  0.285714\n",
       "\n",
       "[960 rows x 4 columns]"
      ]
     },
     "execution_count": 4,
     "metadata": {},
     "output_type": "execute_result"
    }
   ],
   "source": [
    "df[\"q67s1\"]=((df[\"q67s1\"]-df[\"q67s1\"].min())\n",
    "                        /(df[\"q67s1\"].max()-df[\"q67s1\"].min()))\n",
    "\n",
    "df[\"q67s2\"]=((df[\"q67s2\"]-df[\"q67s2\"].min())\n",
    "                        /(df[\"q67s2\"].max()-df[\"q67s2\"].min()))\n",
    "\n",
    "df[\"q67s3\"]=((df[\"q67s3\"]-df[\"q67s3\"].min())\n",
    "                        /(df[\"q67s3\"].max()-df[\"q67s3\"].min()))\n",
    "\n",
    "df[\"q67s4\"]=((df[\"q67s4\"]-df[\"q67s4\"].min())\n",
    "                        /(df[\"q67s4\"].max()-df[\"q67s4\"].min()))\n",
    "\n",
    "df[[\"q67s1\", \"q67s2\", \"q67s3\", \"q67s4\"]]"
   ]
  },
  {
   "cell_type": "markdown",
   "metadata": {},
   "source": [
    "<b>3. Replace NaNs with the most frequent value.</b>"
   ]
  },
  {
   "cell_type": "code",
   "execution_count": 5,
   "metadata": {},
   "outputs": [
    {
     "name": "stdout",
     "output_type": "stream",
     "text": [
      "q13 column mode: \t 0    6.0\n",
      "dtype: float64 \n",
      "Number of NaN values: \t 0\n"
     ]
    }
   ],
   "source": [
    "df.loc[df['q13'].isna(), 'q13'] = df['q13'].mode()\n",
    "\n",
    "print(f\"q13 column mode: \\t {df['q13'].mode()}\",\n",
    "      f\"\\nNumber of NaN values: \\t {df[df['q13'].isna()]['q13'].count()}\")"
   ]
  },
  {
   "cell_type": "markdown",
   "metadata": {},
   "source": [
    "<b>4. Create leap_year column based on respondent birth date.</b>"
   ]
  },
  {
   "cell_type": "code",
   "execution_count": 6,
   "metadata": {},
   "outputs": [
    {
     "data": {
      "text/html": [
       "<div>\n",
       "<style scoped>\n",
       "    .dataframe tbody tr th:only-of-type {\n",
       "        vertical-align: middle;\n",
       "    }\n",
       "\n",
       "    .dataframe tbody tr th {\n",
       "        vertical-align: top;\n",
       "    }\n",
       "\n",
       "    .dataframe thead th {\n",
       "        text-align: right;\n",
       "    }\n",
       "</style>\n",
       "<table border=\"1\" class=\"dataframe\">\n",
       "  <thead>\n",
       "    <tr style=\"text-align: right;\">\n",
       "      <th></th>\n",
       "      <th>URODZONY</th>\n",
       "      <th>year_to_datetime</th>\n",
       "      <th>leap_year</th>\n",
       "    </tr>\n",
       "  </thead>\n",
       "  <tbody>\n",
       "    <tr>\n",
       "      <td>0</td>\n",
       "      <td>1940</td>\n",
       "      <td>1940-01-01</td>\n",
       "      <td>True</td>\n",
       "    </tr>\n",
       "    <tr>\n",
       "      <td>1</td>\n",
       "      <td>1943</td>\n",
       "      <td>1943-01-01</td>\n",
       "      <td>False</td>\n",
       "    </tr>\n",
       "    <tr>\n",
       "      <td>2</td>\n",
       "      <td>1936</td>\n",
       "      <td>1936-01-01</td>\n",
       "      <td>True</td>\n",
       "    </tr>\n",
       "    <tr>\n",
       "      <td>3</td>\n",
       "      <td>1948</td>\n",
       "      <td>1948-01-01</td>\n",
       "      <td>True</td>\n",
       "    </tr>\n",
       "    <tr>\n",
       "      <td>4</td>\n",
       "      <td>1994</td>\n",
       "      <td>1994-01-01</td>\n",
       "      <td>False</td>\n",
       "    </tr>\n",
       "    <tr>\n",
       "      <td>...</td>\n",
       "      <td>...</td>\n",
       "      <td>...</td>\n",
       "      <td>...</td>\n",
       "    </tr>\n",
       "    <tr>\n",
       "      <td>955</td>\n",
       "      <td>1991</td>\n",
       "      <td>1991-01-01</td>\n",
       "      <td>False</td>\n",
       "    </tr>\n",
       "    <tr>\n",
       "      <td>956</td>\n",
       "      <td>1964</td>\n",
       "      <td>1964-01-01</td>\n",
       "      <td>True</td>\n",
       "    </tr>\n",
       "    <tr>\n",
       "      <td>957</td>\n",
       "      <td>1975</td>\n",
       "      <td>1975-01-01</td>\n",
       "      <td>False</td>\n",
       "    </tr>\n",
       "    <tr>\n",
       "      <td>958</td>\n",
       "      <td>1984</td>\n",
       "      <td>1984-01-01</td>\n",
       "      <td>True</td>\n",
       "    </tr>\n",
       "    <tr>\n",
       "      <td>959</td>\n",
       "      <td>1944</td>\n",
       "      <td>1944-01-01</td>\n",
       "      <td>True</td>\n",
       "    </tr>\n",
       "  </tbody>\n",
       "</table>\n",
       "<p>960 rows × 3 columns</p>\n",
       "</div>"
      ],
      "text/plain": [
       "     URODZONY year_to_datetime  leap_year\n",
       "0        1940       1940-01-01       True\n",
       "1        1943       1943-01-01      False\n",
       "2        1936       1936-01-01       True\n",
       "3        1948       1948-01-01       True\n",
       "4        1994       1994-01-01      False\n",
       "..        ...              ...        ...\n",
       "955      1991       1991-01-01      False\n",
       "956      1964       1964-01-01       True\n",
       "957      1975       1975-01-01      False\n",
       "958      1984       1984-01-01       True\n",
       "959      1944       1944-01-01       True\n",
       "\n",
       "[960 rows x 3 columns]"
      ]
     },
     "execution_count": 6,
     "metadata": {},
     "output_type": "execute_result"
    }
   ],
   "source": [
    "df['year_to_datetime'] = pd.to_datetime(df['URODZONY'], format='%Y')\n",
    "df['leap_year'] = df['year_to_datetime'].dt.is_leap_year\n",
    "df[['URODZONY', 'year_to_datetime', 'leap_year']]"
   ]
  },
  {
   "cell_type": "markdown",
   "metadata": {},
   "source": [
    "<b>5. Series' Accessors usage example.</b>"
   ]
  },
  {
   "cell_type": "code",
   "execution_count": 19,
   "metadata": {
    "scrolled": false
   },
   "outputs": [
    {
     "name": "stdout",
     "output_type": "stream",
     "text": [
      "=== Day of year === \n",
      "0      0\n",
      "1      4\n",
      "2      2\n",
      "3      3\n",
      "4      5\n",
      "      ..\n",
      "955    1\n",
      "956    2\n",
      "957    2\n",
      "958    6\n",
      "959    5\n",
      "Name: year_to_datetime, Length: 960, dtype: int64 \n",
      "\n",
      "=== Check if the full_name column ends with 'e' === \n",
      "0      False\n",
      "1      False\n",
      "2      False\n",
      "3      False\n",
      "4      False\n",
      "       ...  \n",
      "955    False\n",
      "956    False\n",
      "957    False\n",
      "958    False\n",
      "959    False\n",
      "Name: full_name, Length: 960, dtype: bool \n",
      "\n",
      "=== Get all categories === \n",
      "Int64Index([1, 2, 3, 4, 5, 6, 7, 8, 9, 10, 11, 12, 13, 14, 15, 16], dtype='int64') \n",
      "\n",
      "=== Check % of non-empty values in 'q32' column === \n",
      "0.004166666666666667\n"
     ]
    }
   ],
   "source": [
    "full_name_series = pd.Series(data=[fake.name() for i in range(len(df['woj']))])\n",
    "df['full_name'] = full_name_series\n",
    "print('=== Day of year ===',\n",
    "      f\"\\n{df['year_to_datetime'].dt.dayofweek}\",\n",
    "      '\\n\\n=== Check if the full_name column ends with \\'e\\' ===',\n",
    "      f\"\\n{df['full_name'].str.endswith('e')}\",\n",
    "      '\\n\\n=== Get all categories ===',\n",
    "      f\"\\n{df['woj'].astype('category').cat.categories}\",\n",
    "      f\"\\n\\n=== Check % of non-empty values in \\'q32\\' column ===\",\n",
    "      f\"\\n{df['q32'].astype(pd.SparseDtype(object)).sparse.density}\")\n",
    "\n"
   ]
  },
  {
   "cell_type": "markdown",
   "metadata": {},
   "source": [
    "<b>6. Create 5 equal birth date groups and a new column assigning respondent to one of these groups.</b>"
   ]
  },
  {
   "cell_type": "code",
   "execution_count": 22,
   "metadata": {},
   "outputs": [
    {
     "data": {
      "text/plain": [
       "1994"
      ]
     },
     "execution_count": 22,
     "metadata": {},
     "output_type": "execute_result"
    }
   ],
   "source": [
    "np.max(df['URODZONY'])"
   ]
  }
 ],
 "metadata": {
  "kernelspec": {
   "display_name": "Python 3",
   "language": "python",
   "name": "python3"
  },
  "language_info": {
   "codemirror_mode": {
    "name": "ipython",
    "version": 3
   },
   "file_extension": ".py",
   "mimetype": "text/x-python",
   "name": "python",
   "nbconvert_exporter": "python",
   "pygments_lexer": "ipython3",
   "version": "3.7.2"
  }
 },
 "nbformat": 4,
 "nbformat_minor": 2
}
