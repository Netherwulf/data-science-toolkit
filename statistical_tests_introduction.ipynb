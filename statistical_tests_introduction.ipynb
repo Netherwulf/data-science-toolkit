{
 "cells": [
  {
   "cell_type": "markdown",
   "metadata": {},
   "source": [
    "<b>Imports of required libraries</b>"
   ]
  },
  {
   "cell_type": "code",
   "execution_count": 293,
   "metadata": {},
   "outputs": [],
   "source": [
    "import numpy as np\n",
    "from scipy.stats import ttest_1samp, ttest_ind, ttest_rel"
   ]
  },
  {
   "cell_type": "markdown",
   "metadata": {},
   "source": [
    "<b>1. An example of a ttest usage</b>"
   ]
  },
  {
   "cell_type": "code",
   "execution_count": 317,
   "metadata": {},
   "outputs": [
    {
     "name": "stdout",
     "output_type": "stream",
     "text": [
      "sample mean: \t\t 31.5\n",
      "sample std deviation: \t 5.0\n",
      "\n",
      "t-statistic value: \t 7.006738709230563 \n",
      "p-value: \t\t 2.9976236328903103e-10 \n",
      "alpha: \t\t\t 0.05\n",
      "\n",
      "Result: \t\t p-value is smaller than alpha -> we reject null hypothesis\n"
     ]
    }
   ],
   "source": [
    "random_sample = np.random.normal(loc=31.5, scale=5, size=100)\n",
    "\n",
    "while np.round(np.mean(random_sample), decimals=1) != 31.5 or np.round(np.std(random_sample), decimals=0) != 5.0:\n",
    "    random_sample = np.random.normal(loc=31.5, scale=5, size=100)\n",
    "\n",
    "sample_mean = np.mean(random_sample)\n",
    "sample_standard_deviation = np.std(random_sample)\n",
    "\n",
    "print('sample mean: \\t\\t {0}\\nsample std deviation: \\t {1}\\n'.format(np.round(sample_mean, decimals=1), np.round(sample_standard_deviation, decimals=0)))\n",
    "\n",
    "hypothetic_mean = 28\n",
    "\n",
    "stat, p = ttest_1samp(random_sample, hypothetic_mean)\n",
    "\n",
    "alpha = 0.05\n",
    "\n",
    "print('t-statistic value: \\t {0} \\np-value: \\t\\t {1} \\nalpha: \\t\\t\\t {2}\\n'.format(stat, p, alpha))\n",
    "\n",
    "if p < alpha:\n",
    "    print('Result: \\t\\t p-value is smaller than alpha -> we reject null hypothesis')\n",
    "else:\n",
    "    print('Result: \\t\\t p-value is greater/equal to alpha -> We can\\'t reject null hypothesis')"
   ]
  },
  {
   "cell_type": "markdown",
   "metadata": {},
   "source": [
    "<b>Result: p-value is lower than alpha so the null hipothesis must be rejected</b>"
   ]
  },
  {
   "cell_type": "markdown",
   "metadata": {},
   "source": [
    "<b>2. An example of a ttest on a specified population from gaussian distribution</b>"
   ]
  },
  {
   "cell_type": "code",
   "execution_count": 295,
   "metadata": {},
   "outputs": [
    {
     "name": "stdout",
     "output_type": "stream",
     "text": [
      "t-statistic value: \t 55.794601577309216 \n",
      "p-value: \t\t 1.2822978625389368e-76 \n",
      "alpha: \t\t\t 0.05\n",
      "\n",
      "Result: \t\t p-value is smaller than alpha -> we reject null hypothesis\n"
     ]
    }
   ],
   "source": [
    "waiting_time_sample = np.array([1, 1, 1, 2, 2, 2, 2, 3, 3, 3, 4, 4, 4, 4, 4, 5, 5, 6, 6, 6, 7, 7])\n",
    "\n",
    "#sample_mean = np.round(np.mean(waiting_time_sample), decimals=1)\n",
    "#sample_standard_deviation = np.round(np.std(waiting_time_sample), decimals=1)\n",
    "\n",
    "#print('sample mean: \\t\\t {0}\\nsample std deviation: \\t {1}\\n'.format(sample_mean, sample_standard_deviation))\n",
    "\n",
    "hypothetic_mean = 3\n",
    "\n",
    "stat, p = ttest_1samp(random_sample, hypothetic_mean)\n",
    "\n",
    "alpha = 0.05\n",
    "\n",
    "print('t-statistic value: \\t {0} \\np-value: \\t\\t {1} \\nalpha: \\t\\t\\t {2}\\n'.format(stat, p, alpha))\n",
    "\n",
    "if p < alpha:\n",
    "    print('Result: \\t\\t p-value is smaller than alpha -> we reject null hypothesis')\n",
    "else:\n",
    "    print('Result: \\t\\t p-value is greater/equal to alpha -> We can\\'t reject null hypothesis')"
   ]
  },
  {
   "cell_type": "markdown",
   "metadata": {},
   "source": [
    "<b>Result: p-value is smaller than alpha so the null hipothesis must be rejected</b>"
   ]
  },
  {
   "cell_type": "markdown",
   "metadata": {},
   "source": [
    "<b>3. An example of a ttest on populations from gaussian distribution and t-Student distribution</b>"
   ]
  },
  {
   "cell_type": "code",
   "execution_count": 296,
   "metadata": {},
   "outputs": [
    {
     "name": "stdout",
     "output_type": "stream",
     "text": [
      "===Normal distribution sample stats===\n",
      "sample mean: \t\t 38.0\n",
      "sample std deviation: \t 14.0\n",
      "\n",
      "t-statistic value: \t -3.215145182219247 \n",
      "p-value: \t\t 0.005079262331501898 \n",
      "alpha: \t\t\t 0.01\n",
      "\n",
      "Result: \t\t p-value is smaller than alpha -> we reject null hypothesis\n"
     ]
    }
   ],
   "source": [
    "normal_distribution_sample = np.random.normal(loc=38, scale=14, size=18)\n",
    "\n",
    "while np.round(np.mean(normal_distribution_sample), decimals=1) != 38.0 or np.round(np.std(normal_distribution_sample), decimals=0) != 14.0:\n",
    "    normal_distribution_sample = np.random.normal(loc=38, scale=14, size=18)\n",
    "\n",
    "sample_mean = np.mean(normal_distribution_sample)\n",
    "sample_standard_deviation = np.std(normal_distribution_sample)\n",
    "\n",
    "print('===Normal distribution sample stats===\\nsample mean: \\t\\t {0}\\nsample std deviation: \\t {1}\\n'.format(np.round(sample_mean, decimals=1), np.round(sample_standard_deviation, decimals=0)))\n",
    "\n",
    "hypothetic_mean = 49\n",
    "\n",
    "stat, p = ttest_1samp(normal_distribution_sample, hypothetic_mean)\n",
    "\n",
    "alpha = 0.01\n",
    "\n",
    "print('t-statistic value: \\t {0} \\np-value: \\t\\t {1} \\nalpha: \\t\\t\\t {2}\\n'.format(stat, p, alpha))\n",
    "\n",
    "if p < alpha:\n",
    "    print('Result: \\t\\t p-value is smaller than alpha -> we reject null hypothesis')\n",
    "else:\n",
    "    print('Result: \\t\\t p-value is greater/equal to alpha -> We can\\'t reject null hypothesis')"
   ]
  },
  {
   "cell_type": "code",
   "execution_count": 297,
   "metadata": {},
   "outputs": [
    {
     "name": "stdout",
     "output_type": "stream",
     "text": [
      "===t-Student distribution sample stats===\n",
      "degrees of freedom: \t 17\n",
      "\n",
      "t-statistic value: \t -167.87467888736188 \n",
      "p-value: \t\t 8.171299577133823e-29 \n",
      "alpha: \t\t\t 0.01\n",
      "\n",
      "Result: \t\t p-value is smaller than alpha -> we reject null hypothesis\n"
     ]
    }
   ],
   "source": [
    "degrees_of_freedom = 17\n",
    "t_student_sample = np.random.standard_t(df=degrees_of_freedom, size=18)\n",
    "\n",
    "print('===t-Student distribution sample stats===\\ndegrees of freedom: \\t {0}\\n'.format(degrees_of_freedom))\n",
    "\n",
    "hypothetic_mean = 49\n",
    "\n",
    "stat, p = ttest_1samp(t_student_sample, hypothetic_mean)\n",
    "\n",
    "print('t-statistic value: \\t {0} \\np-value: \\t\\t {1} \\nalpha: \\t\\t\\t {2}\\n'.format(stat, p, alpha))\n",
    "\n",
    "if p < alpha:\n",
    "    print('Result: \\t\\t p-value is smaller than alpha -> we reject null hypothesis')\n",
    "else:\n",
    "    print('Result: \\t\\t p-value is greater/equal to alpha -> We can\\'t reject null hypothesis')"
   ]
  },
  {
   "cell_type": "markdown",
   "metadata": {},
   "source": [
    "<b>4. An example of a Barlett test</b>"
   ]
  },
  {
   "cell_type": "code",
   "execution_count": null,
   "metadata": {},
   "outputs": [],
   "source": []
  },
  {
   "cell_type": "markdown",
   "metadata": {},
   "source": [
    "<b>5. An example of a t-test on 2 populations</b>"
   ]
  },
  {
   "cell_type": "code",
   "execution_count": null,
   "metadata": {},
   "outputs": [],
   "source": []
  }
 ],
 "metadata": {
  "kernelspec": {
   "display_name": "Python 3",
   "language": "python",
   "name": "python3"
  },
  "language_info": {
   "codemirror_mode": {
    "name": "ipython",
    "version": 3
   },
   "file_extension": ".py",
   "mimetype": "text/x-python",
   "name": "python",
   "nbconvert_exporter": "python",
   "pygments_lexer": "ipython3",
   "version": "3.7.2"
  }
 },
 "nbformat": 4,
 "nbformat_minor": 2
}
