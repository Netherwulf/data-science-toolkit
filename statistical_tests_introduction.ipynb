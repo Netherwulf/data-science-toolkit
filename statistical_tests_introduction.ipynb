{
 "cells": [
  {
   "cell_type": "markdown",
   "metadata": {},
   "source": [
    "<b>Imports of required libraries</b>"
   ]
  },
  {
   "cell_type": "code",
   "execution_count": 2,
   "metadata": {},
   "outputs": [],
   "source": [
    "import numpy as np\n",
    "from scipy.stats import ttest_1samp, norm, chi2, bartlett"
   ]
  },
  {
   "cell_type": "markdown",
   "metadata": {},
   "source": [
    "<b>1. An example of a ttest usage on a population from gaussian distribution</b>"
   ]
  },
  {
   "cell_type": "code",
   "execution_count": 3,
   "metadata": {},
   "outputs": [
    {
     "name": "stdout",
     "output_type": "stream",
     "text": [
      "sample mean: \t\t 31.4\n",
      "sample std deviation: \t 6.0\n",
      "\n",
      "t-statistic value: \t 5.829086510006261 \n",
      "p-value: \t\t 6.988275979526211e-08 \n",
      "alpha: \t\t\t 0.05\n",
      "\n",
      "Result: \t\t p-value is smaller than or equal to alpha \n",
      " \t\t\t We reject null hypothesis\n"
     ]
    }
   ],
   "source": [
    "random_sample = np.random.normal(loc=31.5, scale=5, size=100)\n",
    "\n",
    "#while np.round(np.mean(random_sample), decimals=1) != 31.5 or np.round(np.std(random_sample), decimals=0) != 5.0:\n",
    "#    random_sample = np.random.normal(loc=31.5, scale=5, size=100)\n",
    "\n",
    "sample_mean = np.mean(random_sample)\n",
    "sample_standard_deviation = np.std(random_sample)\n",
    "\n",
    "print('sample mean: \\t\\t {0}\\nsample std deviation: \\t {1}\\n'\n",
    "      .format(np.round(sample_mean, decimals=1),\n",
    "              np.round(sample_standard_deviation, decimals=0)))\n",
    "\n",
    "hypothetic_mean = 28\n",
    "\n",
    "stat, p = ttest_1samp(random_sample, hypothetic_mean)\n",
    "\n",
    "alpha = 0.05\n",
    "\n",
    "print('t-statistic value: \\t {0} \\np-value: \\t\\t {1} \\nalpha: \\t\\t\\t {2}\\n'\n",
    "      .format(stat, p, alpha))\n",
    "\n",
    "if p <= alpha:\n",
    "    print('Result: \\t\\t p-value is smaller than or equal to alpha \\n \\t\\t\\t We reject null hypothesis')\n",
    "else:\n",
    "    print('Result: \\t\\t p-value is greater than alpha \\n \\t\\t\\t We can\\'t reject null hypothesis')"
   ]
  },
  {
   "cell_type": "markdown",
   "metadata": {},
   "source": [
    "<b>2. An example of a ttest on a specified population</b>"
   ]
  },
  {
   "cell_type": "code",
   "execution_count": 4,
   "metadata": {},
   "outputs": [
    {
     "name": "stdout",
     "output_type": "stream",
     "text": [
      "sample mean: \t\t 3.7\n",
      "sample std deviation: \t 1.9\n",
      "\n",
      "t-statistic value: \t 1.788854381999831 \n",
      "p-value: \t\t 0.08807448930807442 \n",
      "alpha: \t\t\t 0.05\n",
      "\n",
      "Result: \t\t p-value is greater than alpha \n",
      " \t\t\t We can't reject null hypothesis\n"
     ]
    }
   ],
   "source": [
    "waiting_time_sample = np.array([1, 1, 1, 2, 2, 2, 2, 3, 3, 3, 4, 4, 4, 4, 4, 5, 5, 6, 6, 6, 7, 7])\n",
    "\n",
    "sample_mean = np.round(np.mean(waiting_time_sample), decimals=1)\n",
    "sample_standard_deviation = np.round(np.std(waiting_time_sample), decimals=1)\n",
    "\n",
    "print('sample mean: \\t\\t {0}\\nsample std deviation: \\t {1}\\n'\n",
    "      .format(sample_mean, sample_standard_deviation))\n",
    "\n",
    "hypothetic_mean = 3\n",
    "\n",
    "stat, p = ttest_1samp(waiting_time_sample, hypothetic_mean)\n",
    "\n",
    "alpha = 0.05\n",
    "\n",
    "print('t-statistic value: \\t {0} \\np-value: \\t\\t {1} \\nalpha: \\t\\t\\t {2}\\n'\n",
    "      .format(stat, p, alpha))\n",
    "\n",
    "if p <= alpha:\n",
    "    print('Result: \\t\\t p-value is smaller than or equal to alpha \\n \\t\\t\\t We reject null hypothesis')\n",
    "else:\n",
    "    print('Result: \\t\\t p-value is greater than alpha \\n \\t\\t\\t We can\\'t reject null hypothesis')"
   ]
  },
  {
   "cell_type": "markdown",
   "metadata": {},
   "source": [
    "<b>3. An example of a ttest on populations from gaussian distribution and t-Student distribution</b>"
   ]
  },
  {
   "cell_type": "code",
   "execution_count": 44,
   "metadata": {},
   "outputs": [
    {
     "name": "stdout",
     "output_type": "stream",
     "text": [
      "=== Normal distribution sample stats ===\n",
      "sample mean: \t\t 38.0\n",
      "sample std deviation: \t 14.0\n",
      "\n",
      "t-statistic value: \t -3.25796003144445 \n",
      "p-value: \t\t 0.004631695797011702 \n",
      "alpha: \t\t\t 0.01\n",
      "\n",
      "Result: \t\t p-value is smaller than or equal to alpha \n",
      " \t\t\t We reject null hypothesis\n"
     ]
    }
   ],
   "source": [
    "# sample generated from gaussian distribution + ttest\n",
    "normal_distribution_sample = np.random.normal(loc=38, scale=14, size=18)\n",
    "\n",
    "while np.round(\n",
    "    np.mean(normal_distribution_sample), decimals=1) != 38.0 or np.round(\n",
    "    np.std(normal_distribution_sample), decimals=1) != 14.0:\n",
    "    normal_distribution_sample = np.random.normal(loc=38, scale=14, size=18)\n",
    "\n",
    "sample_mean = np.mean(normal_distribution_sample)\n",
    "sample_standard_deviation = np.std(normal_distribution_sample)\n",
    "\n",
    "print('=== Normal distribution sample stats ===\\nsample mean: \\t\\t {0}\\nsample std deviation: \\t {1}\\n'\n",
    "      .format(np.round(sample_mean, decimals=1),\n",
    "              np.round(sample_standard_deviation, decimals=0)))\n",
    "\n",
    "hypothetic_mean = 49\n",
    "\n",
    "stat, p = ttest_1samp(normal_distribution_sample, hypothetic_mean)\n",
    "\n",
    "alpha = 0.01\n",
    "\n",
    "print('t-statistic value: \\t {0} \\np-value: \\t\\t {1} \\nalpha: \\t\\t\\t {2}\\n'\n",
    "      .format(stat, p, alpha))\n",
    "\n",
    "if p <= alpha:\n",
    "    print('Result: \\t\\t p-value is smaller than or equal to alpha \\n \\t\\t\\t We reject null hypothesis')\n",
    "else:\n",
    "    print('Result: \\t\\t p-value is greater than alpha \\n \\t\\t\\t We can\\'t reject null hypothesis')"
   ]
  },
  {
   "cell_type": "code",
   "execution_count": 6,
   "metadata": {
    "scrolled": true
   },
   "outputs": [
    {
     "name": "stdout",
     "output_type": "stream",
     "text": [
      "=== Sample stats ===\n",
      "sample mean: \t\t 38\n",
      "sample std deviation: \t 14\n",
      "\n",
      "z-statistic value: \t -3.333503397022295 \n",
      "alpha: \t\t\t 0.01\n",
      "z_alpha1: \t\t -2.575829303548901\n",
      "z_alpha2: \t\t 2.5758293035489004\n",
      "\n",
      "Result: \t\t z_statistic is out of critical values partition \n",
      " \t\t\t We reject null hypothesis\n"
     ]
    }
   ],
   "source": [
    "# using sample parameters + z-statistic formula\n",
    "sample_mean = 38\n",
    "sample_standard_deviation = 14\n",
    "number_of_observations = 18\n",
    "\n",
    "\n",
    "print('=== Sample stats ===\\nsample mean: \\t\\t {0}\\nsample std deviation: \\t {1}\\n'\n",
    "      .format(np.round(sample_mean, decimals=1),\n",
    "              np.round(sample_standard_deviation, decimals=0)))\n",
    "\n",
    "\n",
    "hypothetic_mean = 49\n",
    "\n",
    "z_statistic = ((sample_mean - hypothetic_mean)/sample_standard_deviation)*np.sqrt(number_of_observations)\n",
    "\n",
    "alpha = 0.01\n",
    "\n",
    "z_alpha1 = norm.ppf(alpha/2)\n",
    "z_alpha2 = norm.ppf(1-(alpha/2))\n",
    "\n",
    "print('z-statistic value: \\t {0} \\nalpha: \\t\\t\\t {1}\\nz_alpha1: \\t\\t {2}\\nz_alpha2: \\t\\t {3}\\n'\n",
    "      .format(z_statistic, alpha, z_alpha1, z_alpha2))\n",
    "\n",
    "if z_statistic < z_alpha1 or z_statistic > z_alpha2:\n",
    "    print('Result: \\t\\t z_statistic is out of critical values partition \\n \\t\\t\\t We reject null hypothesis')\n",
    "else:\n",
    "    print('Result: \\t\\t z_statistic is inside of critical values partition \\n \\t\\t\\t We can\\'t reject null hypothesis')"
   ]
  },
  {
   "cell_type": "code",
   "execution_count": 7,
   "metadata": {},
   "outputs": [
    {
     "name": "stdout",
     "output_type": "stream",
     "text": [
      "=== t-Student distribution sample stats ===\n",
      "degrees of freedom: \t 17\n",
      "\n",
      "t-statistic value: \t -240.7896137760499 \n",
      "p-value: \t\t 1.779432052580993e-31 \n",
      "alpha: \t\t\t 0.01\n",
      "\n",
      "Result: \t\t p-value is smaller than or equal to alpha \n",
      " \t\t\t We reject null hypothesis\n"
     ]
    }
   ],
   "source": [
    "degrees_of_freedom = 17\n",
    "t_student_sample = np.random.standard_t(df=degrees_of_freedom, size=18)\n",
    "\n",
    "print('=== t-Student distribution sample stats ===\\ndegrees of freedom: \\t {0}\\n'.format(degrees_of_freedom))\n",
    "\n",
    "hypothetic_mean = 49\n",
    "\n",
    "stat, p = ttest_1samp(t_student_sample, hypothetic_mean)\n",
    "\n",
    "alpha = 0.01\n",
    "\n",
    "print('t-statistic value: \\t {0} \\np-value: \\t\\t {1} \\nalpha: \\t\\t\\t {2}\\n'.format(stat, p, alpha))\n",
    "\n",
    "if p <= alpha:\n",
    "    print('Result: \\t\\t p-value is smaller than or equal to alpha \\n \\t\\t\\t We reject null hypothesis')\n",
    "else:\n",
    "    print('Result: \\t\\t p-value is greater than alpha \\n \\t\\t\\t We can\\'t reject null hypothesis')"
   ]
  },
  {
   "cell_type": "markdown",
   "metadata": {},
   "source": [
    "<b>4. An example of a chi-square variance test</b>"
   ]
  },
  {
   "cell_type": "code",
   "execution_count": 24,
   "metadata": {},
   "outputs": [
    {
     "name": "stdout",
     "output_type": "stream",
     "text": [
      "=== Normal distribution sample stats ===\n",
      "sample mean: \t\t 37.7\n",
      "sample std deviation: \t 2.0\n",
      "sample variance: \t 2.4\n",
      "\n",
      "chi-squared statistic: \t 36.743697360312225 \n",
      "p-value: \t\t 0.0464042108137257 \n",
      "p-value2: \t\t 0.0464042108137257 \n",
      "\n",
      "alpha: \t\t\t 0.05\n",
      "\n",
      "Result: \t\t p-value is smaller than or equal to alpha \n",
      " \t\t\t We reject null hypothesis\n",
      "\n",
      "alpha: \t\t\t 0.01\n",
      "\n",
      "Result: \t\t p-value is greater than alpha \n",
      " \t\t\t We can't reject null hypothesis\n"
     ]
    }
   ],
   "source": [
    "# sample generated from gaussian distribution\n",
    "normal_distribution_sample = np.random.normal(loc=38.0, scale=1.5, size=25)\n",
    "\n",
    "sample_mean = np.mean(normal_distribution_sample)\n",
    "sample_standard_deviation = np.std(normal_distribution_sample)\n",
    "sample_variance = np.var(normal_distribution_sample)\n",
    "\n",
    "print('=== Normal distribution sample stats ===\\nsample mean: \\t\\t {0}\\nsample std deviation: \\t {1}\\nsample variance: \\t {2}\\n'\n",
    "      .format(np.round(sample_mean, decimals=1),\n",
    "              np.round(sample_standard_deviation, decimals=0),\n",
    "              np.round(sample_variance, decimals=1)))\n",
    "\n",
    "hypothetic_variance = 1.6\n",
    "\n",
    "chi_square_stat = (\n",
    "    ((len(normal_distribution_sample) - 1) * np.power(sample_standard_deviation, 2))\n",
    "    /hypothetic_variance)\n",
    "\n",
    "new_p = 1 - chi2.cdf(chi_square_stat, df=len(normal_distribution_sample)-1)\n",
    "new_p2 = chi2.sf(chi_square_stat, df=len(normal_distribution_sample)-1)\n",
    "\n",
    "p = new_p2\n",
    "\n",
    "alpha = 0.05\n",
    "\n",
    "print('chi-squared statistic: \\t {0} \\np-value: \\t\\t {1} \\np-value2: \\t\\t {2} \\n\\nalpha: \\t\\t\\t {3}\\n'\n",
    "      .format(chi_square_stat, new_p, new_p2, alpha))\n",
    "\n",
    "if p <= alpha:\n",
    "    print('Result: \\t\\t p-value is smaller than or equal to alpha \\n \\t\\t\\t We reject null hypothesis')\n",
    "else:\n",
    "    print('Result: \\t\\t p-value is greater than alpha \\n \\t\\t\\t We can\\'t reject null hypothesis')\n",
    "    \n",
    "alpha = 0.01\n",
    "\n",
    "print('\\nalpha: \\t\\t\\t {0}\\n'.format(alpha))\n",
    "\n",
    "if p <= alpha:\n",
    "    print('Result: \\t\\t p-value is smaller than or equal to alpha \\n \\t\\t\\t We reject null hypothesis')\n",
    "else:\n",
    "    print('Result: \\t\\t p-value is greater than alpha \\n \\t\\t\\t We can\\'t reject null hypothesis')"
   ]
  },
  {
   "cell_type": "markdown",
   "metadata": {},
   "source": [
    "<b>5. An example of a Bartlett variance test on 2 populations</b>"
   ]
  },
  {
   "cell_type": "code",
   "execution_count": 9,
   "metadata": {
    "scrolled": true
   },
   "outputs": [
    {
     "name": "stdout",
     "output_type": "stream",
     "text": [
      "=== New product buyers sample stats ===\n",
      "sample mean: \t\t 26.7\n",
      "sample std deviation: \t 6.2\n",
      "sample variance: \t 38.4\n",
      "\n",
      "=== Old product buyers sample stats ===\n",
      "sample mean: \t\t 32.7\n",
      "sample std deviation: \t 6.5\n",
      "sample variance: \t 42.3\n",
      "\n",
      "Bartlett test statistic: 0.041511362068652614 \n",
      "p-value: \t\t 0.8385540462285838 \n",
      "alpha: \t\t\t 0.05\n",
      "\n",
      "Result: \t\t p-value is greater than alpha \n",
      " \t\t\t We can't reject null hypothesis\n"
     ]
    }
   ],
   "source": [
    "new_product_buyers = np.random.normal(loc=27.7, scale=5.5, size=20)\n",
    "old_product_buyers = np.random.normal(loc=32.1, scale=6.3, size=22)\n",
    "\n",
    "new_product_sample_mean = np.mean(new_product_buyers)\n",
    "new_product_sample_standard_deviation = np.std(new_product_buyers)\n",
    "new_product_sample_variance = np.var(new_product_buyers)\n",
    "\n",
    "print('=== New product buyers sample stats ===\\nsample mean: \\t\\t {0}\\nsample std deviation: \\t {1}\\nsample variance: \\t {2}\\n'\n",
    "      .format(np.round(new_product_sample_mean, decimals=1),\n",
    "              np.round(new_product_sample_standard_deviation, decimals=1), \n",
    "              np.round(new_product_sample_variance, decimals=1)))\n",
    "\n",
    "old_product_sample_mean = np.mean(old_product_buyers)\n",
    "old_product_sample_standard_deviation = np.std(old_product_buyers)\n",
    "old_product_sample_variance = np.var(old_product_buyers)\n",
    "\n",
    "print('=== Old product buyers sample stats ===\\nsample mean: \\t\\t {0}\\nsample std deviation: \\t {1}\\nsample variance: \\t {2}\\n'\n",
    "      .format(np.round(old_product_sample_mean, decimals=1),\n",
    "              np.round(old_product_sample_standard_deviation, decimals=1), \n",
    "              np.round(old_product_sample_variance, decimals=1)))\n",
    "\n",
    "stat, p = bartlett(new_product_buyers, old_product_buyers)\n",
    "\n",
    "alpha = 0.05\n",
    "\n",
    "print('Bartlett test statistic: {0} \\np-value: \\t\\t {1} \\nalpha: \\t\\t\\t {2}\\n'.format(stat, p, alpha))\n",
    "\n",
    "if p <= alpha:\n",
    "    print('Result: \\t\\t p-value is smaller than or equal to alpha \\n \\t\\t\\t We reject null hypothesis')\n",
    "else:\n",
    "    print('Result: \\t\\t p-value is greater than alpha \\n \\t\\t\\t We can\\'t reject null hypothesis')"
   ]
  }
 ],
 "metadata": {
  "kernelspec": {
   "display_name": "Python 3",
   "language": "python",
   "name": "python3"
  },
  "language_info": {
   "codemirror_mode": {
    "name": "ipython",
    "version": 3
   },
   "file_extension": ".py",
   "mimetype": "text/x-python",
   "name": "python",
   "nbconvert_exporter": "python",
   "pygments_lexer": "ipython3",
   "version": "3.6.8"
  }
 },
 "nbformat": 4,
 "nbformat_minor": 2
}
