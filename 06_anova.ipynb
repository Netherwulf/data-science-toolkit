{
 "cells": [
  {
   "cell_type": "markdown",
   "metadata": {},
   "source": [
    "<b>Import of required libraries</b>"
   ]
  },
  {
   "cell_type": "code",
   "execution_count": 10,
   "metadata": {},
   "outputs": [],
   "source": [
    "import os\n",
    "import numpy as np\n",
    "import pandas as pd\n",
    "import matplotlib.pyplot as plt\n",
    "from scipy.io import loadmat\n",
    "from scipy.stats import shapiro, bartlett, f_oneway, kruskal, friedmanchisquare\n",
    "from statsmodels.stats.anova import anova_lm\n",
    "from statsmodels.stats.multicomp import MultiComparison, pairwise_tukeyhsd\n",
    "from statsmodels.formula.api import ols"
   ]
  },
  {
   "cell_type": "markdown",
   "metadata": {},
   "source": [
    "<b>1. One-way ANOVA</b>"
   ]
  },
  {
   "cell_type": "code",
   "execution_count": 4,
   "metadata": {},
   "outputs": [
    {
     "name": "stdout",
     "output_type": "stream",
     "text": [
      "\n",
      "=== Shapiro-Wilk normality test === \n",
      "p-value: \t\t 0.9137757420539856\n",
      "alpha: \t\t\t 0.05\n",
      "\n",
      "Result: \t\t p-value is greater than alpha \n",
      " \t\t\t We can't reject null hypothesis\n",
      "\n",
      "=== Shapiro-Wilk normality test === \n",
      "p-value: \t\t 0.5149158239364624\n",
      "alpha: \t\t\t 0.05\n",
      "\n",
      "Result: \t\t p-value is greater than alpha \n",
      " \t\t\t We can't reject null hypothesis\n",
      "\n",
      "=== Shapiro-Wilk normality test === \n",
      "p-value: \t\t 0.975721001625061\n",
      "alpha: \t\t\t 0.05\n",
      "\n",
      "Result: \t\t p-value is greater than alpha \n",
      " \t\t\t We can't reject null hypothesis\n",
      "\n",
      "=== Bartlett test for the simmilarity of variances samples === \n",
      "p-value: \t\t 0.7816443631023369\n",
      "alpha: \t\t\t 0.05\n",
      "\n",
      "Result: \t\t p-value is greater than alpha \n",
      " \t\t\t We can't reject null hypothesis\n",
      "\n",
      "=== One-way ANOVA test for 3 samples === \n",
      "H0: \t\t\t Every sample comes from distribution with simmilar mean \n",
      "H1: \t\t\t At least one sample has different mean than the others \n",
      "\t\t\t (what results in a different mean of its' population) \n",
      "\n",
      "p-value: \t\t 0.06903397098047648\n",
      "alpha: \t\t\t 0.05\n",
      "\n",
      "Result: \t\t p-value is greater than alpha \n",
      " \t\t\t We can't reject null hypothesis\n"
     ]
    }
   ],
   "source": [
    "def check_sample_normality(sample, alpha=0.05):\n",
    "    # check if sample comes from gaussian distribution (Shapiro-Wilk test)\n",
    "    stat, p = shapiro(sorted(sample))\n",
    "\n",
    "    alpha = alpha\n",
    "\n",
    "    print('\\n=== Shapiro-Wilk normality test ===',\n",
    "          '\\np-value: \\t\\t {0}\\nalpha: \\t\\t\\t {1}\\n'.format(p, alpha))\n",
    "\n",
    "    if p <= alpha:\n",
    "        print('Result: \\t\\t p-value is smaller than or equal to alpha \\n \\t\\t\\t We reject null hypothesis')\n",
    "    else:\n",
    "        print('Result: \\t\\t p-value is greater than alpha \\n \\t\\t\\t We can\\'t reject null hypothesis')    \n",
    "\n",
    "def check_samples_equal_variance(sample_1, sample_2, sample_3, alpha=0.05):\n",
    "    # check if the variance in every sample is simmilar enough (Bartlett test)\n",
    "    stat, p = bartlett(sample_1, sample_2, sample_3)\n",
    "    \n",
    "    print('\\n=== Bartlett test for the simmilarity of variances samples ===',\n",
    "          '\\np-value: \\t\\t {0}\\nalpha: \\t\\t\\t {1}\\n'.format(p, alpha))\n",
    "\n",
    "    if p <= alpha:\n",
    "        print('Result: \\t\\t p-value is smaller than or equal to alpha \\n \\t\\t\\t We reject null hypothesis')\n",
    "    else:\n",
    "        print('Result: \\t\\t p-value is greater than alpha \\n \\t\\t\\t We can\\'t reject null hypothesis') \n",
    "\n",
    "# checking if ANOVA can be conducted\n",
    "def check_anova_assumptions(sample_1, sample_2, sample_3, alpha=0.05):\n",
    "    \n",
    "    # check if every sample comes from gaussian distribution\n",
    "    check_sample_normality(sample_1)\n",
    "    check_sample_normality(sample_2)\n",
    "    check_sample_normality(sample_3)\n",
    "    \n",
    "    # check if the variance in each sample is simmilar enough (Bartlett test)\n",
    "    check_samples_equal_variance(sample_1, sample_2, sample_3)\n",
    "\n",
    "mat_file = loadmat(os.path.join('anova_data', 'anova_data.mat'))\n",
    "\n",
    "df = pd.DataFrame(mat_file['koala'])\n",
    "\n",
    "check_anova_assumptions(df[0], df[1], df[2])\n",
    "\n",
    "stat, p = f_oneway(df[0], df[1], df[2])\n",
    "alpha = 0.05\n",
    "    \n",
    "print('\\n=== One-way ANOVA test for 3 samples ===', \n",
    "      '\\nH0: \\t\\t\\t Every sample comes from distribution with simmilar mean', '\\nH1: \\t\\t\\t At least one sample has different mean than the others \\n\\t\\t\\t (what results in a different mean of its\\' population)', \n",
    "      '\\n\\np-value: \\t\\t {0}\\nalpha: \\t\\t\\t {1}\\n'.format(p, alpha))\n",
    "\n",
    "if p <= alpha:\n",
    "    print('Result: \\t\\t p-value is smaller than or equal to alpha \\n \\t\\t\\t We reject null hypothesis')\n",
    "else:\n",
    "    print('Result: \\t\\t p-value is greater than alpha \\n \\t\\t\\t We can\\'t reject null hypothesis') \n"
   ]
  },
  {
   "cell_type": "markdown",
   "metadata": {},
   "source": [
    "<b>2. One-way ANOVA and then Tukey's HSD test to check pairwise which sample doesn't have mean equal to others</b>"
   ]
  },
  {
   "cell_type": "code",
   "execution_count": 23,
   "metadata": {},
   "outputs": [
    {
     "name": "stdout",
     "output_type": "stream",
     "text": [
      "\n",
      "=== One-way ANOVA test for 3 samples === \n",
      "H0: \t\t\t Every sample comes from distribution with simmilar mean \n",
      "H1: \t\t\t At least one sample has different mean than the others \n",
      "\t\t\t (what results in a different mean of its' population) \n",
      "\n",
      "p-value: \t\t 0.04338747516521317\n",
      "alpha: \t\t\t 0.05\n",
      "\n",
      "Result: \t\t p-value is smaller than or equal to alpha \n",
      " \t\t\t We reject null hypothesis\n"
     ]
    },
    {
     "data": {
      "text/html": [
       "<table class=\"simpletable\">\n",
       "<caption>Multiple Comparison of Means - Tukey HSD, FWER=0.05</caption>\n",
       "<tr>\n",
       "  <th>group1</th> <th>group2</th> <th>meandiff</th>  <th>p-adj</th>  <th>lower</th>   <th>upper</th> <th>reject</th>\n",
       "</tr>\n",
       "<tr>\n",
       "     <td>1</td>      <td>2</td>    <td>4.2893</td>  <td>0.0339</td> <td>0.2892</td>  <td>8.2893</td>  <td>True</td> \n",
       "</tr>\n",
       "<tr>\n",
       "     <td>1</td>      <td>3</td>    <td>1.8519</td>  <td>0.4528</td> <td>-1.9194</td> <td>5.6232</td>  <td>False</td>\n",
       "</tr>\n",
       "<tr>\n",
       "     <td>2</td>      <td>3</td>    <td>-2.4374</td> <td>0.3004</td> <td>-6.4374</td> <td>1.5627</td>  <td>False</td>\n",
       "</tr>\n",
       "</table>"
      ],
      "text/plain": [
       "<class 'statsmodels.iolib.table.SimpleTable'>"
      ]
     },
     "execution_count": 23,
     "metadata": {},
     "output_type": "execute_result"
    }
   ],
   "source": [
    "mat_file = loadmat(os.path.join('anova_data', 'anova_data.mat'))\n",
    "\n",
    "df = pd.DataFrame()\n",
    "\n",
    "df['hrs_of_activity'] = pd.Series(np.reshape(mat_file['wombats'], \n",
    "                                             (mat_file['wombats'].shape[1])))\n",
    "df['group'] = pd.Series(np.reshape(mat_file['wombat_groups'], \n",
    "                                   (mat_file['wombat_groups'].shape[1])))\n",
    "\n",
    "stat, p = f_oneway(df[df['group'] == 1]['hrs_of_activity'],\n",
    "                   df[df['group'] == 2]['hrs_of_activity'],\n",
    "                   df[df['group'] == 3]['hrs_of_activity'])\n",
    "alpha = 0.05\n",
    "    \n",
    "print('\\n=== One-way ANOVA test for 3 samples ===', \n",
    "      '\\nH0: \\t\\t\\t Every sample comes from distribution with simmilar mean', \n",
    "      '\\nH1: \\t\\t\\t At least one sample has different mean than the others \\n\\t\\t\\t (what results in a different mean of its\\' population)', \n",
    "      '\\n\\np-value: \\t\\t {0}\\nalpha: \\t\\t\\t {1}\\n'.format(p, alpha))\n",
    "\n",
    "if p <= alpha:\n",
    "    print('Result: \\t\\t p-value is smaller than or equal to alpha \\n \\t\\t\\t We reject null hypothesis')\n",
    "else:\n",
    "    print('Result: \\t\\t p-value is greater than alpha \\n \\t\\t\\t We can\\'t reject null hypothesis') \n",
    "    \n",
    "# Tukey's HSD test\n",
    "pairwise_tukeyhsd(df['hrs_of_activity'], df['group'], alpha=0.05).summary()"
   ]
  },
  {
   "cell_type": "markdown",
   "metadata": {},
   "source": [
    "<b>3. Kruskal-Wallis and Friedman tests for samples for which ANOVA can't be used</b>"
   ]
  },
  {
   "cell_type": "code",
   "execution_count": 6,
   "metadata": {},
   "outputs": [
    {
     "name": "stdout",
     "output_type": "stream",
     "text": [
      "\n",
      "=== Kruskal-Wallis test for 4 samples === \n",
      "\n",
      "p-value: \t\t 0.44062901941658017\n",
      "alpha: \t\t\t 0.05\n",
      "\n",
      "Result: \t\t p-value is greater than alpha \n",
      " \t\t\t We can't reject null hypothesis\n",
      "\n",
      "=== Friedman test for 4 samples === \n",
      "\n",
      "p-value: \t\t 2.6030689788696133e-05\n",
      "alpha: \t\t\t 0.05\n",
      "\n",
      "Result: \t\t p-value is smaller than or equal to alpha \n",
      " \t\t\t We reject null hypothesis\n"
     ]
    }
   ],
   "source": [
    "kw_1 = [3415, 1593, 1976, 1526, 1538, 983, 1050, 1861, 1714, 1320, 1276, 1263, 1271, 1436]\n",
    "kw_2 = [4556, 1937, 2056, 1594, 1634, 1086, 1209, 2087, 2415, 1621, 1377, 1279, 1417, 1310]\n",
    "kw_3 = [5772, 2242, 2240, 1644, 1866, 1135, 1245, 2054, 2361, 1624, 1522, 1350, 1583, 1357]\n",
    "kw_4 = [5432, 2794, 2085, 1705, 1769, 1177, 977, 2018, 2424, 1551, 1412, 1490, 1513, 1468]\n",
    "\n",
    "df = pd.DataFrame({'Kwartał I': kw_1,'Kwartał II': kw_2,'Kwartał III': kw_3,'Kwartał IV': kw_4})\n",
    "\n",
    "stat, p = kruskal(df['Kwartał I'], df['Kwartał II'], df['Kwartał III'], df['Kwartał IV'])\n",
    "\n",
    "alpha = 0.05\n",
    "    \n",
    "print('\\n=== Kruskal-Wallis test for 4 samples ===', \n",
    "      '\\n\\np-value: \\t\\t {0}\\nalpha: \\t\\t\\t {1}\\n'.format(p, alpha))\n",
    "\n",
    "if p <= alpha:\n",
    "    print('Result: \\t\\t p-value is smaller than or equal to alpha \\n \\t\\t\\t We reject null hypothesis')\n",
    "else:\n",
    "    print('Result: \\t\\t p-value is greater than alpha \\n \\t\\t\\t We can\\'t reject null hypothesis') \n",
    "\n",
    "stat, p = friedmanchisquare(df['Kwartał I'], df['Kwartał II'], df['Kwartał III'], df['Kwartał IV'])\n",
    "\n",
    "alpha = 0.05\n",
    "    \n",
    "print('\\n=== Friedman test for 4 samples ===', \n",
    "      '\\n\\np-value: \\t\\t {0}\\nalpha: \\t\\t\\t {1}\\n'.format(p, alpha))\n",
    "\n",
    "if p <= alpha:\n",
    "    print('Result: \\t\\t p-value is smaller than or equal to alpha \\n \\t\\t\\t We reject null hypothesis')\n",
    "else:\n",
    "    print('Result: \\t\\t p-value is greater than alpha \\n \\t\\t\\t We can\\'t reject null hypothesis') \n"
   ]
  },
  {
   "cell_type": "markdown",
   "metadata": {},
   "source": [
    "<b>4. Tukey's HSD test to check pairwise which sample from example above doesn't have mean equal to others</b>"
   ]
  },
  {
   "cell_type": "code",
   "execution_count": 20,
   "metadata": {},
   "outputs": [
    {
     "data": {
      "text/html": [
       "<table class=\"simpletable\">\n",
       "<caption>Multiple Comparison of Means - Tukey HSD, FWER=0.05</caption>\n",
       "<tr>\n",
       "    <th>group1</th>      <th>group2</th>    <th>meandiff</th>  <th>p-adj</th>   <th>lower</th>     <th>upper</th>   <th>reject</th>\n",
       "</tr>\n",
       "<tr>\n",
       "   <td>Kwartał I</td>  <td>Kwartał II</td>  <td>239.7143</td>   <td>0.9</td>  <td>-720.8531</td> <td>1200.2817</td>  <td>False</td>\n",
       "</tr>\n",
       "<tr>\n",
       "   <td>Kwartał I</td>  <td>Kwartał III</td> <td>412.3571</td> <td>0.6489</td> <td>-548.2103</td> <td>1372.9246</td>  <td>False</td>\n",
       "</tr>\n",
       "<tr>\n",
       "   <td>Kwartał I</td>  <td>Kwartał IV</td>    <td>399.5</td>  <td>0.6686</td> <td>-561.0674</td> <td>1360.0674</td>  <td>False</td>\n",
       "</tr>\n",
       "<tr>\n",
       "  <td>Kwartał II</td>  <td>Kwartał III</td> <td>172.6429</td>   <td>0.9</td>  <td>-787.9246</td> <td>1133.2103</td>  <td>False</td>\n",
       "</tr>\n",
       "<tr>\n",
       "  <td>Kwartał II</td>  <td>Kwartał IV</td>  <td>159.7857</td>   <td>0.9</td>  <td>-800.7817</td> <td>1120.3531</td>  <td>False</td>\n",
       "</tr>\n",
       "<tr>\n",
       "  <td>Kwartał III</td> <td>Kwartał IV</td>  <td>-12.8571</td>   <td>0.9</td>  <td>-973.4246</td> <td>947.7103</td>   <td>False</td>\n",
       "</tr>\n",
       "</table>"
      ],
      "text/plain": [
       "<class 'statsmodels.iolib.table.SimpleTable'>"
      ]
     },
     "execution_count": 20,
     "metadata": {},
     "output_type": "execute_result"
    }
   ],
   "source": [
    "kw_1 = [3415, 1593, 1976, 1526, 1538, 983, 1050, 1861, 1714, 1320, 1276, 1263, 1271, 1436]\n",
    "kw_2 = [4556, 1937, 2056, 1594, 1634, 1086, 1209, 2087, 2415, 1621, 1377, 1279, 1417, 1310]\n",
    "kw_3 = [5772, 2242, 2240, 1644, 1866, 1135, 1245, 2054, 2361, 1624, 1522, 1350, 1583, 1357]\n",
    "kw_4 = [5432, 2794, 2085, 1705, 1769, 1177, 977, 2018, 2424, 1551, 1412, 1490, 1513, 1468]\n",
    "\n",
    "\n",
    "df = pd.DataFrame({'Kwartał I': kw_1,'Kwartał II': kw_2,'Kwartał III': kw_3,'Kwartał IV': kw_4})\n",
    "\n",
    "stacked_data = df.stack().reset_index()\n",
    "stacked_data = stacked_data.rename(columns={'level_0': 'id',\n",
    "                                            'level_1': 'Kwartał',\n",
    "                                            0:'Wynik'})\n",
    "\n",
    "pairwise_tukeyhsd(stacked_data['Wynik'], stacked_data['Kwartał'], alpha=0.05).summary()"
   ]
  },
  {
   "cell_type": "markdown",
   "metadata": {},
   "source": [
    "<b>5. Two-way ANOVA</b>"
   ]
  },
  {
   "cell_type": "code",
   "execution_count": null,
   "metadata": {},
   "outputs": [],
   "source": []
  }
 ],
 "metadata": {
  "kernelspec": {
   "display_name": "Python 3",
   "language": "python",
   "name": "python3"
  },
  "language_info": {
   "codemirror_mode": {
    "name": "ipython",
    "version": 3
   },
   "file_extension": ".py",
   "mimetype": "text/x-python",
   "name": "python",
   "nbconvert_exporter": "python",
   "pygments_lexer": "ipython3",
   "version": "3.6.8"
  }
 },
 "nbformat": 4,
 "nbformat_minor": 2
}
