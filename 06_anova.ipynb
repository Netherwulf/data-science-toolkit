{
 "cells": [
  {
   "cell_type": "markdown",
   "metadata": {},
   "source": [
    "<b>Import of required libraries</b>"
   ]
  },
  {
   "cell_type": "code",
   "execution_count": 2,
   "metadata": {},
   "outputs": [],
   "source": [
    "import os\n",
    "import numpy as np\n",
    "import pandas as pd\n",
    "import matplotlib.pyplot as plt\n",
    "from scipy.io import loadmat\n",
    "from scipy.stats import shapiro, bartlett, f_oneway, kruskal, friedmanchisquare\n",
    "from statsmodels.stats.anova import anova_lm\n",
    "from statsmodels.stats.multicomp import pairwise_tukeyhsd\n",
    "from statsmodels.formula.api import ols"
   ]
  },
  {
   "cell_type": "markdown",
   "metadata": {},
   "source": [
    "<b>1. One-way ANOVA</b>"
   ]
  },
  {
   "cell_type": "code",
   "execution_count": 3,
   "metadata": {},
   "outputs": [
    {
     "name": "stdout",
     "output_type": "stream",
     "text": [
      "\n",
      "=== Shapiro-Wilk normality test === \n",
      "p-value: \t\t 0.913768470287323\n",
      "alpha: \t\t\t 0.05\n",
      "\n",
      "Result: \t\t p-value is greater than alpha \n",
      " \t\t\t We can't reject null hypothesis\n",
      "\n",
      "=== Shapiro-Wilk normality test === \n",
      "p-value: \t\t 0.5149136185646057\n",
      "alpha: \t\t\t 0.05\n",
      "\n",
      "Result: \t\t p-value is greater than alpha \n",
      " \t\t\t We can't reject null hypothesis\n",
      "\n",
      "=== Shapiro-Wilk normality test === \n",
      "p-value: \t\t 0.9757199287414551\n",
      "alpha: \t\t\t 0.05\n",
      "\n",
      "Result: \t\t p-value is greater than alpha \n",
      " \t\t\t We can't reject null hypothesis\n",
      "\n",
      "=== Bartlett test for the simmilarity of variances samples === \n",
      "p-value: \t\t 0.7816443631023369\n",
      "alpha: \t\t\t 0.05\n",
      "\n",
      "Result: \t\t p-value is greater than alpha \n",
      " \t\t\t We can't reject null hypothesis\n",
      "\n",
      "=== One-way ANOVA test for 3 samples === \n",
      "H0: \t\t\t Every sample comes from distribution with simmilar mean \n",
      "H1: \t\t\t At least one sample has different mean than the others \n",
      "\t\t\t (what results in a different mean of its' population) \n",
      "\n",
      "p-value: \t\t 0.06903397098047646\n",
      "alpha: \t\t\t 0.05\n",
      "\n",
      "Result: \t\t p-value is greater than alpha \n",
      " \t\t\t We can't reject null hypothesis\n"
     ]
    }
   ],
   "source": [
    "def check_sample_normality(sample, alpha=0.05):\n",
    "    # check if sample comes from gaussian distribution (Shapiro-Wilk test)\n",
    "    stat, p = shapiro(sorted(sample))\n",
    "\n",
    "    alpha = alpha\n",
    "\n",
    "    print('\\n=== Shapiro-Wilk normality test ===',\n",
    "          '\\np-value: \\t\\t {0}\\nalpha: \\t\\t\\t {1}\\n'.format(p, alpha))\n",
    "\n",
    "    if p <= alpha:\n",
    "        print('Result: \\t\\t p-value is smaller than or equal to alpha \\n \\t\\t\\t We reject null hypothesis')\n",
    "    else:\n",
    "        print('Result: \\t\\t p-value is greater than alpha \\n \\t\\t\\t We can\\'t reject null hypothesis')    \n",
    "\n",
    "def check_samples_equal_variance(sample_1, sample_2, sample_3, alpha=0.05):\n",
    "    # check if the variance in every sample is simmilar enough (Bartlett test)\n",
    "    stat, p = bartlett(sample_1, sample_2, sample_3)\n",
    "    \n",
    "    print('\\n=== Bartlett test for the simmilarity of variances samples ===',\n",
    "          '\\np-value: \\t\\t {0}\\nalpha: \\t\\t\\t {1}\\n'.format(p, alpha))\n",
    "\n",
    "    if p <= alpha:\n",
    "        print('Result: \\t\\t p-value is smaller than or equal to alpha \\n \\t\\t\\t We reject null hypothesis')\n",
    "    else:\n",
    "        print('Result: \\t\\t p-value is greater than alpha \\n \\t\\t\\t We can\\'t reject null hypothesis') \n",
    "\n",
    "# checking if ANOVA can be conducted\n",
    "def check_anova_assumptions(sample_1, sample_2, sample_3, alpha=0.05):\n",
    "    \n",
    "    # check if every sample comes from gaussian distribution\n",
    "    check_sample_normality(sample_1)\n",
    "    check_sample_normality(sample_2)\n",
    "    check_sample_normality(sample_3)\n",
    "    \n",
    "    # check if the variance in each sample is simmilar enough (Bartlett test)\n",
    "    check_samples_equal_variance(sample_1, sample_2, sample_3)\n",
    "\n",
    "mat_file = loadmat(os.path.join('anova_data', 'anova_data.mat'))\n",
    "\n",
    "df = pd.DataFrame(mat_file['koala'])\n",
    "\n",
    "check_anova_assumptions(df[0], df[1], df[2])\n",
    "\n",
    "stat, p = f_oneway(df[0], df[1], df[2])\n",
    "alpha = 0.05\n",
    "    \n",
    "print('\\n=== One-way ANOVA test for 3 samples ===', \n",
    "      '\\nH0: \\t\\t\\t Every sample comes from distribution with simmilar mean', '\\nH1: \\t\\t\\t At least one sample has different mean than the others \\n\\t\\t\\t (what results in a different mean of its\\' population)', \n",
    "      '\\n\\np-value: \\t\\t {0}\\nalpha: \\t\\t\\t {1}\\n'.format(p, alpha))\n",
    "\n",
    "if p <= alpha:\n",
    "    print('Result: \\t\\t p-value is smaller than or equal to alpha \\n \\t\\t\\t We reject null hypothesis')\n",
    "else:\n",
    "    print('Result: \\t\\t p-value is greater than alpha \\n \\t\\t\\t We can\\'t reject null hypothesis') \n"
   ]
  },
  {
   "cell_type": "markdown",
   "metadata": {},
   "source": [
    "<b>2. One-way ANOVA and then Tukey's HSD test to check pairwise which sample doesn't have mean equal to others</b>"
   ]
  },
  {
   "cell_type": "code",
   "execution_count": 4,
   "metadata": {},
   "outputs": [
    {
     "name": "stdout",
     "output_type": "stream",
     "text": [
      "\n",
      "=== One-way ANOVA test for 3 samples === \n",
      "H0: \t\t\t Every sample comes from distribution with simmilar mean \n",
      "H1: \t\t\t At least one sample has different mean than the others \n",
      "\t\t\t (what results in a different mean of its' population) \n",
      "\n",
      "p-value: \t\t 0.04338747516521317\n",
      "alpha: \t\t\t 0.05\n",
      "\n",
      "Result: \t\t p-value is smaller than or equal to alpha \n",
      " \t\t\t We reject null hypothesis\n"
     ]
    },
    {
     "ename": "ValueError",
     "evalue": "data has 10 elements and groups has 8",
     "output_type": "error",
     "traceback": [
      "\u001b[1;31m---------------------------------------------------------------------------\u001b[0m",
      "\u001b[1;31mValueError\u001b[0m                                Traceback (most recent call last)",
      "\u001b[1;32m<ipython-input-4-dcb1970b462f>\u001b[0m in \u001b[0;36m<module>\u001b[1;34m\u001b[0m\n\u001b[0;32m     26\u001b[0m pairwise_tukeyhsd(df[df['group'] == 1]['hrs_of_activity'],\n\u001b[0;32m     27\u001b[0m                    \u001b[0mdf\u001b[0m\u001b[1;33m[\u001b[0m\u001b[0mdf\u001b[0m\u001b[1;33m[\u001b[0m\u001b[1;34m'group'\u001b[0m\u001b[1;33m]\u001b[0m \u001b[1;33m==\u001b[0m \u001b[1;36m2\u001b[0m\u001b[1;33m]\u001b[0m\u001b[1;33m[\u001b[0m\u001b[1;34m'hrs_of_activity'\u001b[0m\u001b[1;33m]\u001b[0m\u001b[1;33m,\u001b[0m\u001b[1;33m\u001b[0m\u001b[1;33m\u001b[0m\u001b[0m\n\u001b[1;32m---> 28\u001b[1;33m                    df[df['group'] == 3]['hrs_of_activity'])\n\u001b[0m",
      "\u001b[1;32mc:\\users\\user\\documents\\roboczy\\repozytoria git\\pandas-introduction\\venv\\lib\\site-packages\\statsmodels\\stats\\multicomp.py\u001b[0m in \u001b[0;36mpairwise_tukeyhsd\u001b[1;34m(endog, groups, alpha)\u001b[0m\n\u001b[0;32m     42\u001b[0m     \"\"\"\n\u001b[0;32m     43\u001b[0m \u001b[1;33m\u001b[0m\u001b[0m\n\u001b[1;32m---> 44\u001b[1;33m     \u001b[1;32mreturn\u001b[0m \u001b[0mMultiComparison\u001b[0m\u001b[1;33m(\u001b[0m\u001b[0mendog\u001b[0m\u001b[1;33m,\u001b[0m \u001b[0mgroups\u001b[0m\u001b[1;33m)\u001b[0m\u001b[1;33m.\u001b[0m\u001b[0mtukeyhsd\u001b[0m\u001b[1;33m(\u001b[0m\u001b[0malpha\u001b[0m\u001b[1;33m=\u001b[0m\u001b[0malpha\u001b[0m\u001b[1;33m)\u001b[0m\u001b[1;33m\u001b[0m\u001b[1;33m\u001b[0m\u001b[0m\n\u001b[0m",
      "\u001b[1;32mc:\\users\\user\\documents\\roboczy\\repozytoria git\\pandas-introduction\\venv\\lib\\site-packages\\statsmodels\\sandbox\\stats\\multicomp.py\u001b[0m in \u001b[0;36m__init__\u001b[1;34m(self, data, groups, group_order)\u001b[0m\n\u001b[0;32m    818\u001b[0m \u001b[1;33m\u001b[0m\u001b[0m\n\u001b[0;32m    819\u001b[0m         \u001b[1;32mif\u001b[0m \u001b[0mlen\u001b[0m\u001b[1;33m(\u001b[0m\u001b[0mdata\u001b[0m\u001b[1;33m)\u001b[0m \u001b[1;33m!=\u001b[0m \u001b[0mlen\u001b[0m\u001b[1;33m(\u001b[0m\u001b[0mgroups\u001b[0m\u001b[1;33m)\u001b[0m\u001b[1;33m:\u001b[0m\u001b[1;33m\u001b[0m\u001b[1;33m\u001b[0m\u001b[0m\n\u001b[1;32m--> 820\u001b[1;33m             \u001b[1;32mraise\u001b[0m \u001b[0mValueError\u001b[0m\u001b[1;33m(\u001b[0m\u001b[1;34m'data has %d elements and groups has %d'\u001b[0m \u001b[1;33m%\u001b[0m \u001b[1;33m(\u001b[0m\u001b[0mlen\u001b[0m\u001b[1;33m(\u001b[0m\u001b[0mdata\u001b[0m\u001b[1;33m)\u001b[0m\u001b[1;33m,\u001b[0m \u001b[0mlen\u001b[0m\u001b[1;33m(\u001b[0m\u001b[0mgroups\u001b[0m\u001b[1;33m)\u001b[0m\u001b[1;33m)\u001b[0m\u001b[1;33m)\u001b[0m\u001b[1;33m\u001b[0m\u001b[1;33m\u001b[0m\u001b[0m\n\u001b[0m\u001b[0;32m    821\u001b[0m         \u001b[0mself\u001b[0m\u001b[1;33m.\u001b[0m\u001b[0mdata\u001b[0m \u001b[1;33m=\u001b[0m \u001b[0mnp\u001b[0m\u001b[1;33m.\u001b[0m\u001b[0masarray\u001b[0m\u001b[1;33m(\u001b[0m\u001b[0mdata\u001b[0m\u001b[1;33m)\u001b[0m\u001b[1;33m\u001b[0m\u001b[1;33m\u001b[0m\u001b[0m\n\u001b[0;32m    822\u001b[0m         \u001b[0mself\u001b[0m\u001b[1;33m.\u001b[0m\u001b[0mgroups\u001b[0m \u001b[1;33m=\u001b[0m \u001b[0mgroups\u001b[0m \u001b[1;33m=\u001b[0m \u001b[0mnp\u001b[0m\u001b[1;33m.\u001b[0m\u001b[0masarray\u001b[0m\u001b[1;33m(\u001b[0m\u001b[0mgroups\u001b[0m\u001b[1;33m)\u001b[0m\u001b[1;33m\u001b[0m\u001b[1;33m\u001b[0m\u001b[0m\n",
      "\u001b[1;31mValueError\u001b[0m: data has 10 elements and groups has 8"
     ]
    }
   ],
   "source": [
    "mat_file = loadmat(os.path.join('anova_data', 'anova_data.mat'))\n",
    "\n",
    "df = pd.DataFrame()\n",
    "\n",
    "df['hrs_of_activity'] = pd.Series(np.reshape(mat_file['wombats'], \n",
    "                                             (mat_file['wombats'].shape[1])))\n",
    "df['group'] = pd.Series(np.reshape(mat_file['wombat_groups'], \n",
    "                                   (mat_file['wombat_groups'].shape[1])))\n",
    "\n",
    "stat, p = f_oneway(df[df['group'] == 1]['hrs_of_activity'],\n",
    "                   df[df['group'] == 2]['hrs_of_activity'],\n",
    "                   df[df['group'] == 3]['hrs_of_activity'])\n",
    "alpha = 0.05\n",
    "    \n",
    "print('\\n=== One-way ANOVA test for 3 samples ===', \n",
    "      '\\nH0: \\t\\t\\t Every sample comes from distribution with simmilar mean', \n",
    "      '\\nH1: \\t\\t\\t At least one sample has different mean than the others \\n\\t\\t\\t (what results in a different mean of its\\' population)', \n",
    "      '\\n\\np-value: \\t\\t {0}\\nalpha: \\t\\t\\t {1}\\n'.format(p, alpha))\n",
    "\n",
    "if p <= alpha:\n",
    "    print('Result: \\t\\t p-value is smaller than or equal to alpha \\n \\t\\t\\t We reject null hypothesis')\n",
    "else:\n",
    "    print('Result: \\t\\t p-value is greater than alpha \\n \\t\\t\\t We can\\'t reject null hypothesis') \n",
    "    \n",
    "# Tukey's HSD test \n",
    "pairwise_tukeyhsd(df[df['group'] == 1]['hrs_of_activity'],\n",
    "                   df[df['group'] == 2]['hrs_of_activity'],\n",
    "                   df[df['group'] == 3]['hrs_of_activity'])"
   ]
  },
  {
   "cell_type": "markdown",
   "metadata": {},
   "source": [
    "<b>3. Kruskal-Wallis and Friedman tests for samples for which ANOVA can't be used</b>"
   ]
  },
  {
   "cell_type": "code",
   "execution_count": 15,
   "metadata": {},
   "outputs": [
    {
     "name": "stdout",
     "output_type": "stream",
     "text": [
      "\n",
      "=== Kruskal-Wallis test for 4 samples === \n",
      "\n",
      "p-value: \t\t 0.44062901941658017\n",
      "alpha: \t\t\t 0.05\n",
      "\n",
      "Result: \t\t p-value is greater than alpha \n",
      " \t\t\t We can't reject null hypothesis\n",
      "\n",
      "=== Friedman test for 4 samples === \n",
      "\n",
      "p-value: \t\t 2.6030689788696133e-05\n",
      "alpha: \t\t\t 0.05\n",
      "\n",
      "Result: \t\t p-value is smaller than or equal to alpha \n",
      " \t\t\t We reject null hypothesis\n"
     ]
    }
   ],
   "source": [
    "kw_1 = [3415, 1593, 1976, 1526, 1538, 983, 1050, 1861, 1714, 1320, 1276, 1263, 1271, 1436]\n",
    "kw_2 = [4556, 1937, 2056, 1594, 1634, 1086, 1209, 2087, 2415, 1621, 1377, 1279, 1417, 1310]\n",
    "kw_3 = [5772, 2242, 2240, 1644, 1866, 1135, 1245, 2054, 2361, 1624, 1522, 1350, 1583, 1357]\n",
    "kw_4 = [5432, 2794, 2085, 1705, 1769, 1177, 977, 2018, 2424, 1551, 1412, 1490, 1513, 1468]\n",
    "\n",
    "df = pd.DataFrame({'Kwartał I': kw_1,'Kwartał II': kw_2,'Kwartał III': kw_3,'Kwartał IV': kw_4})\n",
    "\n",
    "stat, p = kruskal(df['Kwartał I'], df['Kwartał II'], df['Kwartał III'], df['Kwartał IV'])\n",
    "\n",
    "alpha = 0.05\n",
    "    \n",
    "print('\\n=== Kruskal-Wallis test for 4 samples ===', \n",
    "      '\\n\\np-value: \\t\\t {0}\\nalpha: \\t\\t\\t {1}\\n'.format(p, alpha))\n",
    "\n",
    "if p <= alpha:\n",
    "    print('Result: \\t\\t p-value is smaller than or equal to alpha \\n \\t\\t\\t We reject null hypothesis')\n",
    "else:\n",
    "    print('Result: \\t\\t p-value is greater than alpha \\n \\t\\t\\t We can\\'t reject null hypothesis') \n",
    "\n",
    "stat, p = friedmanchisquare(df['Kwartał I'], df['Kwartał II'], df['Kwartał III'], df['Kwartał IV'])\n",
    "\n",
    "alpha = 0.05\n",
    "    \n",
    "print('\\n=== Friedman test for 4 samples ===', \n",
    "      '\\n\\np-value: \\t\\t {0}\\nalpha: \\t\\t\\t {1}\\n'.format(p, alpha))\n",
    "\n",
    "if p <= alpha:\n",
    "    print('Result: \\t\\t p-value is smaller than or equal to alpha \\n \\t\\t\\t We reject null hypothesis')\n",
    "else:\n",
    "    print('Result: \\t\\t p-value is greater than alpha \\n \\t\\t\\t We can\\'t reject null hypothesis') \n"
   ]
  },
  {
   "cell_type": "markdown",
   "metadata": {},
   "source": [
    "<b>4. Tukey's HSD test to check pairwise which sample from example above doesn't have mean equal to others</b>"
   ]
  },
  {
   "cell_type": "code",
   "execution_count": 16,
   "metadata": {},
   "outputs": [
    {
     "ename": "TypeError",
     "evalue": "pairwise_tukeyhsd() takes from 2 to 3 positional arguments but 4 were given",
     "output_type": "error",
     "traceback": [
      "\u001b[1;31m---------------------------------------------------------------------------\u001b[0m",
      "\u001b[1;31mTypeError\u001b[0m                                 Traceback (most recent call last)",
      "\u001b[1;32m<ipython-input-16-368c0ab1509f>\u001b[0m in \u001b[0;36m<module>\u001b[1;34m\u001b[0m\n\u001b[0;32m      6\u001b[0m \u001b[0mdf\u001b[0m \u001b[1;33m=\u001b[0m \u001b[0mpd\u001b[0m\u001b[1;33m.\u001b[0m\u001b[0mDataFrame\u001b[0m\u001b[1;33m(\u001b[0m\u001b[1;33m{\u001b[0m\u001b[1;34m'Kwartał I'\u001b[0m\u001b[1;33m:\u001b[0m \u001b[0mkw_1\u001b[0m\u001b[1;33m,\u001b[0m\u001b[1;34m'Kwartał II'\u001b[0m\u001b[1;33m:\u001b[0m \u001b[0mkw_2\u001b[0m\u001b[1;33m,\u001b[0m\u001b[1;34m'Kwartał III'\u001b[0m\u001b[1;33m:\u001b[0m \u001b[0mkw_3\u001b[0m\u001b[1;33m,\u001b[0m\u001b[1;34m'Kwartał IV'\u001b[0m\u001b[1;33m:\u001b[0m \u001b[0mkw_4\u001b[0m\u001b[1;33m}\u001b[0m\u001b[1;33m)\u001b[0m\u001b[1;33m\u001b[0m\u001b[1;33m\u001b[0m\u001b[0m\n\u001b[0;32m      7\u001b[0m \u001b[1;33m\u001b[0m\u001b[0m\n\u001b[1;32m----> 8\u001b[1;33m \u001b[0mpairwise_tukeyhsd\u001b[0m\u001b[1;33m(\u001b[0m\u001b[0mdf\u001b[0m\u001b[1;33m[\u001b[0m\u001b[1;34m'Kwartał I'\u001b[0m\u001b[1;33m]\u001b[0m\u001b[1;33m,\u001b[0m \u001b[0mdf\u001b[0m\u001b[1;33m[\u001b[0m\u001b[1;34m'Kwartał II'\u001b[0m\u001b[1;33m]\u001b[0m\u001b[1;33m,\u001b[0m \u001b[0mdf\u001b[0m\u001b[1;33m[\u001b[0m\u001b[1;34m'Kwartał III'\u001b[0m\u001b[1;33m]\u001b[0m\u001b[1;33m,\u001b[0m \u001b[0mdf\u001b[0m\u001b[1;33m[\u001b[0m\u001b[1;34m'Kwartał IV'\u001b[0m\u001b[1;33m]\u001b[0m\u001b[1;33m)\u001b[0m\u001b[1;33m\u001b[0m\u001b[1;33m\u001b[0m\u001b[0m\n\u001b[0m",
      "\u001b[1;31mTypeError\u001b[0m: pairwise_tukeyhsd() takes from 2 to 3 positional arguments but 4 were given"
     ]
    }
   ],
   "source": [
    "kw_1 = [3415, 1593, 1976, 1526, 1538, 983, 1050, 1861, 1714, 1320, 1276, 1263, 1271, 1436]\n",
    "kw_2 = [4556, 1937, 2056, 1594, 1634, 1086, 1209, 2087, 2415, 1621, 1377, 1279, 1417, 1310]\n",
    "kw_3 = [5772, 2242, 2240, 1644, 1866, 1135, 1245, 2054, 2361, 1624, 1522, 1350, 1583, 1357]\n",
    "kw_4 = [5432, 2794, 2085, 1705, 1769, 1177, 977, 2018, 2424, 1551, 1412, 1490, 1513, 1468]\n",
    "\n",
    "df = pd.DataFrame({'Kwartał I': kw_1,'Kwartał II': kw_2,'Kwartał III': kw_3,'Kwartał IV': kw_4})\n",
    "\n",
    "pairwise_tukeyhsd(df['Kwartał I'], df['Kwartał II'], df['Kwartał III'], df['Kwartał IV'])"
   ]
  },
  {
   "cell_type": "markdown",
   "metadata": {},
   "source": [
    "<b>5. Two-way ANOVA</b>"
   ]
  },
  {
   "cell_type": "code",
   "execution_count": null,
   "metadata": {},
   "outputs": [],
   "source": []
  }
 ],
 "metadata": {
  "kernelspec": {
   "display_name": "Python 3",
   "language": "python",
   "name": "python3"
  },
  "language_info": {
   "codemirror_mode": {
    "name": "ipython",
    "version": 3
   },
   "file_extension": ".py",
   "mimetype": "text/x-python",
   "name": "python",
   "nbconvert_exporter": "python",
   "pygments_lexer": "ipython3",
   "version": "3.7.2"
  }
 },
 "nbformat": 4,
 "nbformat_minor": 2
}
